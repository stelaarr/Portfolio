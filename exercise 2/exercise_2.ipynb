{
 "cells": [
  {
   "cell_type": "markdown",
   "id": "e2371690-e131-4f98-8100-9b0ac7da8870",
   "metadata": {},
   "source": [
    "# Exercise 2\n",
    "Use Elasticsearch to index the News dataset and write a Python function that implements pseudo-relevance feedback in Elasticsearch"
   ]
  },
  {
   "cell_type": "code",
   "execution_count": 1,
   "id": "6024d6df-7208-48a8-8cb6-2ecc039fc965",
   "metadata": {},
   "outputs": [
    {
     "name": "stdout",
     "output_type": "stream",
     "text": [
      "Requirement already satisfied: jsonify in c:\\users\\usuario\\anaconda3\\lib\\site-packages (0.5)\n",
      "Note: you may need to restart the kernel to use updated packages.\n"
     ]
    }
   ],
   "source": [
    "pip install jsonify"
   ]
  },
  {
   "cell_type": "code",
   "execution_count": 1,
   "id": "0e27013c-f111-4767-a481-8cecaaf8be9a",
   "metadata": {},
   "outputs": [
    {
     "name": "stdout",
     "output_type": "stream",
     "text": [
      "(8, 12, 0)\n"
     ]
    }
   ],
   "source": [
    "import pandas as pd\n",
    "import re\n",
    "import json, jsonify\n",
    "import time\n",
    "import requests\n",
    "from requests.auth import HTTPBasicAuth\n",
    "from elasticsearch import Elasticsearch\n",
    "import elasticsearch\n",
    "from elasticsearch.helpers import bulk\n",
    "import math\n",
    "\n",
    "print(elasticsearch.__version__)"
   ]
  },
  {
   "cell_type": "code",
   "execution_count": 2,
   "id": "cba9ed87-d9cd-4f62-89ec-d56224d363bd",
   "metadata": {},
   "outputs": [],
   "source": [
    "USER = 'elastic'\n",
    "PWD = 'GHafZMbVQ*cgYBz7n7pT'\n",
    "index_name = 'news'\n",
    "ES_ENDPOINT = 'https://localhost:9200'\n",
    "\n",
    "path_to_ca_certificates = 'C:/Users/Usuario/OneDrive/Escritorio/Data in Production/elastic_search/elasticsearch-8.12.0/config/certs/http_ca.crt'"
   ]
  },
  {
   "cell_type": "markdown",
   "id": "10da222a-ab15-4b8d-9c5b-ed0145ea28a0",
   "metadata": {},
   "source": [
    "### Load the data"
   ]
  },
  {
   "cell_type": "code",
   "execution_count": 3,
   "id": "d88d178d-3a29-4cf0-9d93-366f7209690b",
   "metadata": {},
   "outputs": [
    {
     "data": {
      "text/html": [
       "<div>\n",
       "<style scoped>\n",
       "    .dataframe tbody tr th:only-of-type {\n",
       "        vertical-align: middle;\n",
       "    }\n",
       "\n",
       "    .dataframe tbody tr th {\n",
       "        vertical-align: top;\n",
       "    }\n",
       "\n",
       "    .dataframe thead th {\n",
       "        text-align: right;\n",
       "    }\n",
       "</style>\n",
       "<table border=\"1\" class=\"dataframe\">\n",
       "  <thead>\n",
       "    <tr style=\"text-align: right;\">\n",
       "      <th></th>\n",
       "      <th>link</th>\n",
       "      <th>headline</th>\n",
       "      <th>category</th>\n",
       "      <th>short_description</th>\n",
       "      <th>authors</th>\n",
       "      <th>date</th>\n",
       "    </tr>\n",
       "  </thead>\n",
       "  <tbody>\n",
       "    <tr>\n",
       "      <th>0</th>\n",
       "      <td>https://www.huffpost.com/entry/covid-boosters-...</td>\n",
       "      <td>Over 4 Million Americans Roll Up Sleeves For O...</td>\n",
       "      <td>U.S. NEWS</td>\n",
       "      <td>Health experts said it is too early to predict...</td>\n",
       "      <td>Carla K. Johnson, AP</td>\n",
       "      <td>2022-09-23</td>\n",
       "    </tr>\n",
       "    <tr>\n",
       "      <th>1</th>\n",
       "      <td>https://www.huffpost.com/entry/american-airlin...</td>\n",
       "      <td>American Airlines Flyer Charged, Banned For Li...</td>\n",
       "      <td>U.S. NEWS</td>\n",
       "      <td>He was subdued by passengers and crew when he ...</td>\n",
       "      <td>Mary Papenfuss</td>\n",
       "      <td>2022-09-23</td>\n",
       "    </tr>\n",
       "    <tr>\n",
       "      <th>2</th>\n",
       "      <td>https://www.huffpost.com/entry/funniest-tweets...</td>\n",
       "      <td>23 Of The Funniest Tweets About Cats And Dogs ...</td>\n",
       "      <td>COMEDY</td>\n",
       "      <td>\"Until you have a dog you don't understand wha...</td>\n",
       "      <td>Elyse Wanshel</td>\n",
       "      <td>2022-09-23</td>\n",
       "    </tr>\n",
       "    <tr>\n",
       "      <th>3</th>\n",
       "      <td>https://www.huffpost.com/entry/funniest-parent...</td>\n",
       "      <td>The Funniest Tweets From Parents This Week (Se...</td>\n",
       "      <td>PARENTING</td>\n",
       "      <td>\"Accidentally put grown-up toothpaste on my to...</td>\n",
       "      <td>Caroline Bologna</td>\n",
       "      <td>2022-09-23</td>\n",
       "    </tr>\n",
       "    <tr>\n",
       "      <th>4</th>\n",
       "      <td>https://www.huffpost.com/entry/amy-cooper-lose...</td>\n",
       "      <td>Woman Who Called Cops On Black Bird-Watcher Lo...</td>\n",
       "      <td>U.S. NEWS</td>\n",
       "      <td>Amy Cooper accused investment firm Franklin Te...</td>\n",
       "      <td>Nina Golgowski</td>\n",
       "      <td>2022-09-22</td>\n",
       "    </tr>\n",
       "  </tbody>\n",
       "</table>\n",
       "</div>"
      ],
      "text/plain": [
       "                                                link  \\\n",
       "0  https://www.huffpost.com/entry/covid-boosters-...   \n",
       "1  https://www.huffpost.com/entry/american-airlin...   \n",
       "2  https://www.huffpost.com/entry/funniest-tweets...   \n",
       "3  https://www.huffpost.com/entry/funniest-parent...   \n",
       "4  https://www.huffpost.com/entry/amy-cooper-lose...   \n",
       "\n",
       "                                            headline   category  \\\n",
       "0  Over 4 Million Americans Roll Up Sleeves For O...  U.S. NEWS   \n",
       "1  American Airlines Flyer Charged, Banned For Li...  U.S. NEWS   \n",
       "2  23 Of The Funniest Tweets About Cats And Dogs ...     COMEDY   \n",
       "3  The Funniest Tweets From Parents This Week (Se...  PARENTING   \n",
       "4  Woman Who Called Cops On Black Bird-Watcher Lo...  U.S. NEWS   \n",
       "\n",
       "                                   short_description               authors  \\\n",
       "0  Health experts said it is too early to predict...  Carla K. Johnson, AP   \n",
       "1  He was subdued by passengers and crew when he ...        Mary Papenfuss   \n",
       "2  \"Until you have a dog you don't understand wha...         Elyse Wanshel   \n",
       "3  \"Accidentally put grown-up toothpaste on my to...      Caroline Bologna   \n",
       "4  Amy Cooper accused investment firm Franklin Te...        Nina Golgowski   \n",
       "\n",
       "         date  \n",
       "0  2022-09-23  \n",
       "1  2022-09-23  \n",
       "2  2022-09-23  \n",
       "3  2022-09-23  \n",
       "4  2022-09-22  "
      ]
     },
     "execution_count": 3,
     "metadata": {},
     "output_type": "execute_result"
    }
   ],
   "source": [
    "df = pd.read_csv('../data/news/news.csv')\n",
    "df.head()"
   ]
  },
  {
   "cell_type": "markdown",
   "id": "07aaced4-ba69-4c2e-a6a5-96378a20c1e5",
   "metadata": {},
   "source": [
    "### Superficial EDA"
   ]
  },
  {
   "cell_type": "markdown",
   "id": "019e338f-b0a2-4df6-8f83-442fda8140a3",
   "metadata": {},
   "source": [
    "Dimension of our data"
   ]
  },
  {
   "cell_type": "code",
   "execution_count": 4,
   "id": "1fbd91a4-979b-4684-a1d2-a43255add220",
   "metadata": {},
   "outputs": [
    {
     "data": {
      "text/plain": [
       "(209527, 6)"
      ]
     },
     "execution_count": 4,
     "metadata": {},
     "output_type": "execute_result"
    }
   ],
   "source": [
    "df.shape"
   ]
  },
  {
   "cell_type": "code",
   "execution_count": 5,
   "id": "3a924a0d-3847-459f-8fcd-28e549d2882d",
   "metadata": {},
   "outputs": [
    {
     "name": "stdout",
     "output_type": "stream",
     "text": [
      "There are 13 duplicated news articles\n"
     ]
    },
    {
     "data": {
      "text/html": [
       "<div>\n",
       "<style scoped>\n",
       "    .dataframe tbody tr th:only-of-type {\n",
       "        vertical-align: middle;\n",
       "    }\n",
       "\n",
       "    .dataframe tbody tr th {\n",
       "        vertical-align: top;\n",
       "    }\n",
       "\n",
       "    .dataframe thead th {\n",
       "        text-align: right;\n",
       "    }\n",
       "</style>\n",
       "<table border=\"1\" class=\"dataframe\">\n",
       "  <thead>\n",
       "    <tr style=\"text-align: right;\">\n",
       "      <th></th>\n",
       "      <th>link</th>\n",
       "      <th>headline</th>\n",
       "      <th>category</th>\n",
       "      <th>short_description</th>\n",
       "      <th>authors</th>\n",
       "      <th>date</th>\n",
       "    </tr>\n",
       "  </thead>\n",
       "  <tbody>\n",
       "    <tr>\n",
       "      <th>0</th>\n",
       "      <td>https://www.huffpost.com/entry/covid-boosters-...</td>\n",
       "      <td>Over 4 Million Americans Roll Up Sleeves For O...</td>\n",
       "      <td>U.S. NEWS</td>\n",
       "      <td>Health experts said it is too early to predict...</td>\n",
       "      <td>Carla K. Johnson, AP</td>\n",
       "      <td>2022-09-23</td>\n",
       "    </tr>\n",
       "    <tr>\n",
       "      <th>1</th>\n",
       "      <td>https://www.huffpost.com/entry/american-airlin...</td>\n",
       "      <td>American Airlines Flyer Charged, Banned For Li...</td>\n",
       "      <td>U.S. NEWS</td>\n",
       "      <td>He was subdued by passengers and crew when he ...</td>\n",
       "      <td>Mary Papenfuss</td>\n",
       "      <td>2022-09-23</td>\n",
       "    </tr>\n",
       "    <tr>\n",
       "      <th>2</th>\n",
       "      <td>https://www.huffpost.com/entry/funniest-tweets...</td>\n",
       "      <td>23 Of The Funniest Tweets About Cats And Dogs ...</td>\n",
       "      <td>COMEDY</td>\n",
       "      <td>\"Until you have a dog you don't understand wha...</td>\n",
       "      <td>Elyse Wanshel</td>\n",
       "      <td>2022-09-23</td>\n",
       "    </tr>\n",
       "    <tr>\n",
       "      <th>3</th>\n",
       "      <td>https://www.huffpost.com/entry/funniest-parent...</td>\n",
       "      <td>The Funniest Tweets From Parents This Week (Se...</td>\n",
       "      <td>PARENTING</td>\n",
       "      <td>\"Accidentally put grown-up toothpaste on my to...</td>\n",
       "      <td>Caroline Bologna</td>\n",
       "      <td>2022-09-23</td>\n",
       "    </tr>\n",
       "    <tr>\n",
       "      <th>4</th>\n",
       "      <td>https://www.huffpost.com/entry/amy-cooper-lose...</td>\n",
       "      <td>Woman Who Called Cops On Black Bird-Watcher Lo...</td>\n",
       "      <td>U.S. NEWS</td>\n",
       "      <td>Amy Cooper accused investment firm Franklin Te...</td>\n",
       "      <td>Nina Golgowski</td>\n",
       "      <td>2022-09-22</td>\n",
       "    </tr>\n",
       "  </tbody>\n",
       "</table>\n",
       "</div>"
      ],
      "text/plain": [
       "                                                link  \\\n",
       "0  https://www.huffpost.com/entry/covid-boosters-...   \n",
       "1  https://www.huffpost.com/entry/american-airlin...   \n",
       "2  https://www.huffpost.com/entry/funniest-tweets...   \n",
       "3  https://www.huffpost.com/entry/funniest-parent...   \n",
       "4  https://www.huffpost.com/entry/amy-cooper-lose...   \n",
       "\n",
       "                                            headline   category  \\\n",
       "0  Over 4 Million Americans Roll Up Sleeves For O...  U.S. NEWS   \n",
       "1  American Airlines Flyer Charged, Banned For Li...  U.S. NEWS   \n",
       "2  23 Of The Funniest Tweets About Cats And Dogs ...     COMEDY   \n",
       "3  The Funniest Tweets From Parents This Week (Se...  PARENTING   \n",
       "4  Woman Who Called Cops On Black Bird-Watcher Lo...  U.S. NEWS   \n",
       "\n",
       "                                   short_description               authors  \\\n",
       "0  Health experts said it is too early to predict...  Carla K. Johnson, AP   \n",
       "1  He was subdued by passengers and crew when he ...        Mary Papenfuss   \n",
       "2  \"Until you have a dog you don't understand wha...         Elyse Wanshel   \n",
       "3  \"Accidentally put grown-up toothpaste on my to...      Caroline Bologna   \n",
       "4  Amy Cooper accused investment firm Franklin Te...        Nina Golgowski   \n",
       "\n",
       "         date  \n",
       "0  2022-09-23  \n",
       "1  2022-09-23  \n",
       "2  2022-09-23  \n",
       "3  2022-09-23  \n",
       "4  2022-09-22  "
      ]
     },
     "execution_count": 5,
     "metadata": {},
     "output_type": "execute_result"
    }
   ],
   "source": [
    "# Duplicates?\n",
    "print(f'There are {df[df.duplicated()].shape[0]} duplicated news articles')\n",
    "# we filter the duplicates out\n",
    "df = df[~df.duplicated()]\n",
    "df.head()"
   ]
  },
  {
   "cell_type": "code",
   "execution_count": 7,
   "id": "6171f4b9-d98c-4168-b624-9f40a6cf910f",
   "metadata": {},
   "outputs": [
    {
     "data": {
      "text/plain": [
       "link                     0\n",
       "headline                 6\n",
       "category                 0\n",
       "short_description    19712\n",
       "authors              37405\n",
       "date                     0\n",
       "dtype: int64"
      ]
     },
     "execution_count": 7,
     "metadata": {},
     "output_type": "execute_result"
    }
   ],
   "source": [
    "# Nan values?\n",
    "nan_values = df.isna().sum()\n",
    "nan_values"
   ]
  },
  {
   "cell_type": "code",
   "execution_count": 8,
   "id": "a900d388-4cf5-453a-962a-872eaa3f9137",
   "metadata": {},
   "outputs": [],
   "source": [
    "# Fill the missing authors with 'Unknown' and missing short_description with 'Not provided' and headline with 'None'\n",
    "df['short_description'].fillna('Not provided', inplace=True)\n",
    "df['authors'].fillna('Unknown', inplace=True)\n",
    "df['headline'].fillna('None', inplace=True)"
   ]
  },
  {
   "cell_type": "markdown",
   "id": "2621f542-6033-4ce5-ba95-c5f74b18515a",
   "metadata": {},
   "source": [
    "### Data Prep for creating index"
   ]
  },
  {
   "cell_type": "code",
   "execution_count": 9,
   "id": "eb4afada-dd6a-441a-9037-e3058dd8d6cd",
   "metadata": {},
   "outputs": [
    {
     "name": "stdout",
     "output_type": "stream",
     "text": [
      "Index([     0,      1,      2,      3,      4,      5,      6,      7,      8,\n",
      "            9,\n",
      "       ...\n",
      "       209517, 209518, 209519, 209520, 209521, 209522, 209523, 209524, 209525,\n",
      "       209526],\n",
      "      dtype='int64', length=209514)\n",
      "{'link': 'https://www.huffpost.com/entry/kieran-mac-culkin-snl-hoist-monologue_n_61875f22e4b06de3eb763290', 'headline': \"Kieran Culkin Finally Gets The 'SNL' Lift He Hankered For 30 Years Ago\", 'category': 'COMEDY', 'short_description': '“My brother’s up there. He’s got his arms up, all victorious. And I’m down there on the ground,\\xa0like ... I want uppies,\" Culkin recalled of being on \"SNL\" as a boy.', 'authors': 'Mary Papenfuss', 'date': '2021-11-07'}\n"
     ]
    }
   ],
   "source": [
    "#transform dataframe into json format\n",
    "docs = df.to_dict(orient='records')\n",
    "doc_ids = df.index\n",
    "print(doc_ids)\n",
    "print(docs[1703])"
   ]
  },
  {
   "cell_type": "markdown",
   "id": "2849cf8a-8f69-452c-8cde-8b4fad7d0c1c",
   "metadata": {},
   "source": [
    "### Define index settings and mappings\n",
    "\n",
    "Build the settings of the index, adding the term vector for field 'short_decription' as well as allowing full text queries for fields 'Headline' and 'short_decription'. We initialize the refresh to None so we can later do a bulk update of all our data."
   ]
  },
  {
   "cell_type": "code",
   "execution_count": 10,
   "id": "35a0cad8-9965-45e8-9dad-616e2252cbdd",
   "metadata": {},
   "outputs": [],
   "source": [
    "# create an index\n",
    "create_index_json={\n",
    "  \"mappings\" : {\n",
    "      \"properties\" : {\n",
    "        \"headline\" :  {\n",
    "            \"type\": \"text\",  #for full-text searches\n",
    "            \"fields\": {\n",
    "              \"keyword\": {    \n",
    "                  \"type\": \"keyword\" #for exact search\n",
    "          }}},\n",
    "        \"short_description\" : {\n",
    "            \"type\": \"text\",  #for full-text searches\n",
    "            \"term_vector\": \"with_positions_offsets_payloads\",\n",
    "            \"store\" : True,\n",
    "            \"fields\": {\n",
    "              \"keyword\": {    \n",
    "                  \"type\": \"keyword\" #for exact search\n",
    "          }}},\n",
    "        \"link\" : {\n",
    "          \"type\" : \"text\"\n",
    "        },\n",
    "        \"category\" : {\n",
    "          \"type\" : \"text\"\n",
    "        },\n",
    "        \"authors\" : {\n",
    "          \"type\" : \"text\"\n",
    "        },\n",
    "        \"date\" : {\n",
    "          \"type\" : \"date\"\n",
    "        }\n",
    "      }\n",
    "  },\n",
    "  \"settings\": {\n",
    "        \"number_of_replicas\": 1, # only one replica needed\n",
    "        \"refresh_interval\": -1, # static dataset and updated rarely so we disable the refreshing\n",
    "        \"index\" : {\n",
    "        \"similarity\" : {\n",
    "          \"default\" : {\n",
    "            \"type\" : \"BM25\", \"b\": 0.75, \"k1\": 1.1 # 10% increase of the default value\n",
    "          }\n",
    "        }        \n",
    "    },\n",
    "        \"analysis\": {\n",
    "            \"analyzer\": {\"std_english\": {\"type\": \"standard\", \"stopwords\": \"_english_\" }}\n",
    "        }\n",
    "  }}\n"
   ]
  },
  {
   "cell_type": "markdown",
   "id": "113e9653-21ae-4c68-980c-b28c51ac9ef7",
   "metadata": {},
   "source": [
    "### Load Elasticsearch wrapper\n",
    "Using the wrapper provided in the exercise sessions"
   ]
  },
  {
   "cell_type": "code",
   "execution_count": 11,
   "id": "ff90c45e-b9a0-4c3e-a7da-096969ed92f6",
   "metadata": {},
   "outputs": [],
   "source": [
    "class Elastic:\n",
    "    \"\"\"\n",
    "    A convenience object to send HTTP requests to Elasticsearch\n",
    "    \"\"\"\n",
    "    def __init__(self, endpoint, username, password, path_to_ca_certificates):\n",
    "        \"\"\"\n",
    "        @param endpoint: the URL of the Elasticsearch instance\n",
    "        @param username: the Elasticsearch username \n",
    "        @param password: the Elasticsearch password\n",
    "        \"\"\"\n",
    "        self.header = {'Content-Type': 'application/json', 'charset':'UTF-8'}\n",
    "        #self.header={'Content-Type': '--data-binary application/x-ndjson'}\n",
    "        self.endpoint = endpoint\n",
    "        self.username = username\n",
    "        self.password = password\n",
    "        self.path_to_ca_certificates = path_to_ca_certificates\n",
    "        self.methods_mapping = {'get': requests.get, \n",
    "                                'put':requests.put, \n",
    "                                'post':requests.post, \n",
    "                                'delete':requests.delete}\n",
    "        \n",
    "    def curl(self, method, handle, json=None):\n",
    "        \"\"\"\n",
    "        Sends an HTTP request to the Elasticsearch instance\n",
    "        @param method: can be 'get', 'put', 'post', 'delete'\n",
    "        @param handle: the API handle to be appended to the Elasticsearch url\n",
    "        @param json: the json payload of the HTTP request\n",
    "        \"\"\"\n",
    "        http_method = self.methods_mapping[method.lower()]\n",
    "        r = http_method(f'{self.endpoint}/{handle}', auth=HTTPBasicAuth(USER, PWD), \n",
    "                        headers=self.header, json=json,\n",
    "                        verify = self.path_to_ca_certificates)\n",
    "        return r"
   ]
  },
  {
   "cell_type": "code",
   "execution_count": 12,
   "id": "ebd4f824-6e60-4a6a-8c64-97b4a4a87cbf",
   "metadata": {},
   "outputs": [],
   "source": [
    "e = Elastic(ES_ENDPOINT, USER, PWD, path_to_ca_certificates)"
   ]
  },
  {
   "cell_type": "code",
   "execution_count": 13,
   "id": "2083a6e6-b915-4946-8926-231499c8dbb5",
   "metadata": {},
   "outputs": [
    {
     "data": {
      "text/plain": [
       "{'acknowledged': True}"
      ]
     },
     "execution_count": 13,
     "metadata": {},
     "output_type": "execute_result"
    }
   ],
   "source": [
    "# make sure not any index with this name exists\n",
    "r = e.curl('delete', index_name)\n",
    "r.json()"
   ]
  },
  {
   "cell_type": "code",
   "execution_count": 14,
   "id": "5cad6d9d-ad48-45e8-aae6-ec8a1a4288d7",
   "metadata": {},
   "outputs": [
    {
     "data": {
      "text/plain": [
       "{'acknowledged': True, 'shards_acknowledged': True, 'index': 'news'}"
      ]
     },
     "execution_count": 14,
     "metadata": {},
     "output_type": "execute_result"
    }
   ],
   "source": [
    "# create an index\n",
    "r = e.curl('put', index_name, json=create_index_json)\n",
    "r.json()"
   ]
  },
  {
   "cell_type": "code",
   "execution_count": 15,
   "id": "a8f369ae-2570-40a7-a9e2-836de104f099",
   "metadata": {},
   "outputs": [
    {
     "data": {
      "text/plain": [
       "{'news': {'aliases': {},\n",
       "  'mappings': {'properties': {'authors': {'type': 'text'},\n",
       "    'category': {'type': 'text'},\n",
       "    'date': {'type': 'date'},\n",
       "    'headline': {'type': 'text', 'fields': {'keyword': {'type': 'keyword'}}},\n",
       "    'link': {'type': 'text'},\n",
       "    'short_description': {'type': 'text',\n",
       "     'store': True,\n",
       "     'fields': {'keyword': {'type': 'keyword'}},\n",
       "     'term_vector': 'with_positions_offsets_payloads'}}},\n",
       "  'settings': {'index': {'routing': {'allocation': {'include': {'_tier_preference': 'data_content'}}},\n",
       "    'refresh_interval': '-1',\n",
       "    'number_of_shards': '1',\n",
       "    'provided_name': 'news',\n",
       "    'similarity': {'default': {'type': 'BM25', 'b': '0.75', 'k1': '1.1'}},\n",
       "    'creation_date': '1716711889792',\n",
       "    'analysis': {'analyzer': {'std_english': {'type': 'standard',\n",
       "       'stopwords': '_english_'}}},\n",
       "    'number_of_replicas': '1',\n",
       "    'uuid': 'W6-vhEzlQU2qr2ag35jGxA',\n",
       "    'version': {'created': '8500008'}}}}}"
      ]
     },
     "execution_count": 15,
     "metadata": {},
     "output_type": "execute_result"
    }
   ],
   "source": [
    "# get the index details and settings\n",
    "r = e.curl('get', index_name)\n",
    "r.json()"
   ]
  },
  {
   "cell_type": "markdown",
   "id": "4d0e9f6c-a660-47dd-b5dc-e6e82a3eac67",
   "metadata": {},
   "source": [
    "Load the data efficiently by doing bulk indexing:"
   ]
  },
  {
   "cell_type": "code",
   "execution_count": 16,
   "id": "3698d1d2-eefd-4578-8c10-53440eab036e",
   "metadata": {},
   "outputs": [
    {
     "data": {
      "text/plain": [
       "(209514, [])"
      ]
     },
     "execution_count": 16,
     "metadata": {},
     "output_type": "execute_result"
    }
   ],
   "source": [
    "# bulk indexing (via official API)\n",
    "\n",
    "#connect to the local elasticsearch node and authenticate\n",
    "es = Elasticsearch([ES_ENDPOINT], ca_certs=path_to_ca_certificates, basic_auth=(USER, PWD))\n",
    "\n",
    "actions = [\n",
    "  {\n",
    "    \"_index\": index_name,\n",
    "    \"_id\": doc_id,\n",
    "    \"_source\": doc\n",
    "  }\n",
    "  for doc_id, doc in list(zip(doc_ids, docs))\n",
    "]\n",
    "\n",
    "# send actions in bulk (the API takes care of chunking them optimally)\n",
    "bulk(es, actions)"
   ]
  },
  {
   "cell_type": "markdown",
   "id": "2978c9a9-c98f-431b-b728-056cde08bb4d",
   "metadata": {},
   "source": [
    "Allow the data to be loaded and refreshed every 2 seconds"
   ]
  },
  {
   "cell_type": "code",
   "execution_count": 17,
   "id": "76acd2c8-0625-4dad-af8a-9ce9667d3756",
   "metadata": {},
   "outputs": [
    {
     "data": {
      "text/plain": [
       "{'acknowledged': True}"
      ]
     },
     "execution_count": 17,
     "metadata": {},
     "output_type": "execute_result"
    }
   ],
   "source": [
    "# reset the refresh interval to 2 seconds\n",
    "r = e.curl('put', f'{index_name}/_settings', {'index' : {'refresh_interval' : '2s'}})\n",
    "r.json()"
   ]
  },
  {
   "cell_type": "markdown",
   "id": "d9f5edf1-27e5-4bdc-baec-9e39d4a76bd9",
   "metadata": {},
   "source": [
    "Check on a random data point to verify if the bulk worked properly:"
   ]
  },
  {
   "cell_type": "code",
   "execution_count": 18,
   "id": "d07837a2-d989-4a5b-bb8b-4455c9281abd",
   "metadata": {},
   "outputs": [
    {
     "data": {
      "text/plain": [
       "{'_index': 'news',\n",
       " '_id': '88',\n",
       " '_version': 1,\n",
       " '_seq_no': 88,\n",
       " '_primary_term': 1,\n",
       " 'found': True,\n",
       " '_source': {'link': 'https://www.huffpost.com/entry/ap-as-vietnam-karaoke-fire_n_6319c41be4b0ed021def2c70',\n",
       "  'headline': 'At Least 32 Dead In Fire At Karaoke Parlor In South Vietnam',\n",
       "  'category': 'WORLD NEWS',\n",
       "  'short_description': 'The fire in Thuan An city began late Tuesday and trapped both workers and customers inside the multi-story venue.',\n",
       "  'authors': 'Unknown',\n",
       "  'date': '2022-09-08'}}"
      ]
     },
     "execution_count": 18,
     "metadata": {},
     "output_type": "execute_result"
    }
   ],
   "source": [
    "r = e.curl('get', f'{index_name}/_doc/{doc_ids[88]}')\n",
    "r.json()"
   ]
  },
  {
   "cell_type": "markdown",
   "id": "3a6d68a8-6c6b-4c68-b577-ffda884069dc",
   "metadata": {},
   "source": [
    "### Pseudo Relevance Feedback Function\n",
    "A pseudo relevance feedback function using the description of Rocchio's algorithm provided in lecture 2 of IR"
   ]
  },
  {
   "cell_type": "code",
   "execution_count": 19,
   "id": "bf7ba446-cbf9-4bc9-9cae-5d0899611eca",
   "metadata": {},
   "outputs": [],
   "source": [
    "def pseudo_relevance_feedback(index, query, field_to_match, top_k=10, top_m=10):    \n",
    "    words = query.lower().split()\n",
    "    # Initial full text query to get the relevant results \n",
    "    queryft ={\n",
    "          \"query\": {\n",
    "            \"match\": {\n",
    "                \"short_description\": {\n",
    "                    \"query\": query\n",
    "                }\n",
    "            }\n",
    "          }\n",
    "        } \n",
    "    \n",
    "    relevant_doc = e.curl('get', f'{index}/_search', queryft)\n",
    "    relevant_docs = relevant_doc.json()[\"hits\"][\"hits\"]\n",
    "    \n",
    "    # Step 1: Retrieve relevant documents for initial query\n",
    "    doc_ids = [int(doc[\"_id\"]) for doc in relevant_docs]\n",
    "    \n",
    "    # Step 2: Get TF-IDF vectors of all terms in top k documents and sum them\n",
    "    term_scores = {}\n",
    "    for doc_id in doc_ids:\n",
    "        term_vectors = e.curl('get', f'{index}/_termvectors/{doc_id}', json={\"fields\": [\"short_description\"], \"term_statistics\": True})\n",
    "        term_vector = term_vectors.json()\n",
    "        doc_count = term_vector[\"term_vectors\"][field_to_match][\"field_statistics\"][\"doc_count\"]\n",
    "        if field_to_match in term_vector[\"term_vectors\"]:\n",
    "            terms = term_vector[\"term_vectors\"][field_to_match][\"terms\"]\n",
    "            for term, term_info in terms.items():\n",
    "                if term not in term_scores:\n",
    "                    term_scores[term] = 0\n",
    "                tf = (1 + math.log(term_info[\"term_freq\"])) # exhaustivity\n",
    "                term_scores[term] += tf * math.log(doc_count / (term_info[\"doc_freq\"]))  # TF-IDF formula\n",
    "    \n",
    "    # Step 3: Get the top-M terms in the resulting vector\n",
    "    top_m_terms = sorted(term_scores.keys(), key=lambda x: term_scores[x], reverse=True)[:top_m]\n",
    "    \n",
    "    # Step 4: Submit a new query that contains the initial terms AND the set of new top m terms\n",
    "    expanded_query = query\n",
    "    for term in top_m_terms:\n",
    "        if term not in words:\n",
    "            expanded_query += f\" {term}\"\n",
    "    \n",
    "    expand_query = {\n",
    "          \"query\": {\n",
    "            \"match\": {\n",
    "                \"short_description\": {\n",
    "                    \"query\": expanded_query\n",
    "                }\n",
    "            }\n",
    "          }\n",
    "        }\n",
    "    print('New query used is: ',expanded_query)\n",
    "    expanded_result = e.curl('get', f'{index}/_search', expand_query)\n",
    "    expanded_results = expanded_result.json()[\"hits\"][\"hits\"]\n",
    "    \n",
    "    return expanded_results"
   ]
  },
  {
   "cell_type": "code",
   "execution_count": 20,
   "id": "38b40c6f-dda3-4879-a5e0-527065ff0a14",
   "metadata": {
    "scrolled": true
   },
   "outputs": [
    {
     "name": "stdout",
     "output_type": "stream",
     "text": [
      "New query used is:  plane crash 176 barnes killed resonances along germanwings small mountainous\n"
     ]
    },
    {
     "data": {
      "text/plain": [
       "[{'_index': 'news',\n",
       "  '_id': '3987',\n",
       "  '_score': 35.312504,\n",
       "  '_source': {'link': 'https://www.huffpost.com/entry/steve-barnes-death_n_5f788083c5b64b480aae740e',\n",
       "   'headline': 'Attorney Steve Barnes Of Cellino & Barnes Dies In Plane Crash',\n",
       "   'category': 'U.S. NEWS',\n",
       "   'short_description': 'Barnes, whose firm was known for its ads and catchy jingle, died in a small plane crash along with his niece, Elizabeth Barnes.',\n",
       "   'authors': 'Jim Mustian, AP',\n",
       "   'date': '2020-10-03'}},\n",
       " {'_index': 'news',\n",
       "  '_id': '5462',\n",
       "  '_score': 33.91592,\n",
       "  '_source': {'link': 'https://www.huffpost.com/entry/iran-protests-plane-shot-down_n_5e1b1a07c5b6640ec3d5df2f',\n",
       "   'headline': 'Iranians Defy Police, Protest Over Ukranian Plane Shootdown',\n",
       "   'category': 'WORLD NEWS',\n",
       "   'short_description': 'The plane crash killed all 176 people on board, mostly Iranians and Iranian-Canadians.',\n",
       "   'authors': 'Joseph Krauss and Jon Gambrell, AP',\n",
       "   'date': '2020-01-12'}},\n",
       " {'_index': 'news',\n",
       "  '_id': '5412',\n",
       "  '_score': 30.517387,\n",
       "  '_source': {'link': 'https://www.huffpost.com/entry/iran-acknowledges-2-russian-made-missiles-targeted-ukraine-jet_n_5e26dd98c5b6321176197a88',\n",
       "   'headline': 'Iran Acknowledges 2 Russian-Made Missiles Targeted Ukraine Jet',\n",
       "   'category': 'WORLD NEWS',\n",
       "   'short_description': 'Iran released a new preliminary report on the crash of the Ukraine International Airways plane, which killed 176 people.',\n",
       "   'authors': 'Jon Gambrell, AP',\n",
       "   'date': '2020-01-21'}},\n",
       " {'_index': 'news',\n",
       "  '_id': '94336',\n",
       "  '_score': 27.908718,\n",
       "  '_source': {'link': 'https://www.huffingtonpost.com/entry/teenage-girl-who-survived-plane-crash-walked-for-days-before-getting-picked-up-by-motorist_us_55a45c47e4b0b8145f73747b',\n",
       "   'headline': 'Teenage Girl Who Survived Plane Crash Walked For Days Before Getting Picked Up By Motorist',\n",
       "   'category': 'CRIME',\n",
       "   'short_description': 'SEATTLE (AP) — A driver picked up a teenage girl who survived a small plane crash in a mountainous area in Washington state',\n",
       "   'authors': 'Unknown',\n",
       "   'date': '2015-07-14'}},\n",
       " {'_index': 'news',\n",
       "  '_id': '103908',\n",
       "  '_score': 25.159422,\n",
       "  '_source': {'link': 'https://www.huffingtonpost.com/entry/germanwings-pilot_us_55144461e4b0032ae116f40f',\n",
       "   'headline': \"I'm A Pilot, And No, I'm Not Afraid To Go To Work Today\",\n",
       "   'category': 'TRAVEL',\n",
       "   'short_description': \"This week's\\xa0Germanwings Airbus\\xa0crash -- and recent reports that the co-pilot may have crashed the plane deliberately\\xa0-- have\",\n",
       "   'authors': 'Suzy Strutner',\n",
       "   'date': '2015-03-26'}},\n",
       " {'_index': 'news',\n",
       "  '_id': '125373',\n",
       "  '_score': 18.40683,\n",
       "  '_source': {'link': 'https://www.huffingtonpost.com/entry/comprehending-the-crash_b_5611449.html',\n",
       "   'headline': 'Comprehending the Crash',\n",
       "   'category': 'IMPACT',\n",
       "   'short_description': 'Why does a plane crash exert such a strong grip on our attention?  Perhaps the answer is obvious, yet different crashes evoke such different kinds of stories, in terms of both media impact and more personal, emotional resonances.',\n",
       "   'authors': \"Randy Malamud, ContributorRegents' Professor Of English, Georgia State University\",\n",
       "   'date': '2014-07-23'}},\n",
       " {'_index': 'news',\n",
       "  '_id': '137004',\n",
       "  '_score': 18.211628,\n",
       "  '_source': {'link': 'https://www.huffingtonpost.com/entry/6-reasons-fear-of-flying_us_5b9dec31e4b03a1dcc8ed19d',\n",
       "   'headline': '6 Ways To Ease Your Fear Of Flying',\n",
       "   'category': 'TRAVEL',\n",
       "   'short_description': \"Flying certainly seems scary right now. The recent Germanwings crash has passengers on edge, and why not? It's frightening\",\n",
       "   'authors': 'Kate Auletta',\n",
       "   'date': '2014-03-12'}},\n",
       " {'_index': 'news',\n",
       "  '_id': '5478',\n",
       "  '_score': 17.742558,\n",
       "  '_source': {'link': 'https://www.huffpost.com/entry/iran-investigators-say-ukrainian-plane-never-called-for-help_n_5e16fb45c5b61f701949b5c0',\n",
       "   'headline': 'Iran Investigators Say Ukrainian Plane Never Called For Help',\n",
       "   'category': 'WORLD NEWS',\n",
       "   'short_description': 'Ukrainian investigators are also assisting in the probe of the disaster that killed 176 people.',\n",
       "   'authors': 'Unknown',\n",
       "   'date': '2020-01-09'}},\n",
       " {'_index': 'news',\n",
       "  '_id': '50653',\n",
       "  '_score': 17.093088,\n",
       "  '_source': {'link': 'https://www.huffingtonpost.com/entry/brazil-rio-police-helicopter_us_5831b905e4b030997bbfed0c',\n",
       "   'headline': 'Deadly Police Helicopter Crash In Rio After Day Of Intense Firefights',\n",
       "   'category': 'THE WORLDPOST',\n",
       "   'short_description': 'Four officers were killed in the crash.',\n",
       "   'authors': 'Unknown',\n",
       "   'date': '2016-11-20'}},\n",
       " {'_index': 'news',\n",
       "  '_id': '133956',\n",
       "  '_score': 15.93325,\n",
       "  '_source': {'link': 'https://www.huffingtonpost.com/entry/master-traveler-tips_us_5b9dfa8ee4b03a1dcc8fcb0e',\n",
       "   'headline': '16 Things Master Travelers Do Differently',\n",
       "   'category': 'TRAVEL',\n",
       "   'short_description': 'They know what to do during a plane crash. \"A number of crash studies focusing on both survivors and staged experiments have',\n",
       "   'authors': 'Suzy Strutner',\n",
       "   'date': '2014-04-15'}}]"
      ]
     },
     "execution_count": 20,
     "metadata": {},
     "output_type": "execute_result"
    }
   ],
   "source": [
    "# query on 'plane crash'\n",
    "index_name = \"news\"\n",
    "initial_query = \"plane crash\"\n",
    "field_to_match = \"short_description\"\n",
    "expanded_results = pseudo_relevance_feedback(index_name, initial_query, field_to_match)\n",
    "expanded_results"
   ]
  },
  {
   "cell_type": "code",
   "execution_count": 21,
   "id": "51835ab5-6978-4547-aa90-46115eeb34ea",
   "metadata": {
    "scrolled": true
   },
   "outputs": [
    {
     "name": "stdout",
     "output_type": "stream",
     "text": [
      "New query used is:  London city offer.therefore tourist’s taxi's underground's paris cabs selfridges owing\n"
     ]
    },
    {
     "data": {
      "text/plain": [
       "[{'_index': 'news',\n",
       "  '_id': '57481',\n",
       "  '_score': 42.054108,\n",
       "  '_source': {'link': 'https://www.huffingtonpost.com/entry/5-things-you-must-do-in-london-while-traveling-england_us_57cdc099e4b07addc413ce14',\n",
       "   'headline': '5 Things You Must Do In London While Traveling England',\n",
       "   'category': 'TRAVEL',\n",
       "   'short_description': 'London is a tourist’s paradise owing to the several iconic attractions it has to offer.Therefore,it makes sense why London',\n",
       "   'authors': 'Rachel M. Moore, ContributorI’m a 20 something runner-girl from the Alabama area, and this...',\n",
       "   'date': '2016-09-05'}},\n",
       " {'_index': 'news',\n",
       "  '_id': '198223',\n",
       "  '_score': 31.207134,\n",
       "  '_source': {'link': 'https://www.huffingtonpost.comhttp://online.wsj.com/article/SB10001424052702304192704577404080468282556.html?mod=priority_pass',\n",
       "   'headline': 'London Taxi Company Exports Famous Cabs To Azerbaijan',\n",
       "   'category': 'TRAVEL',\n",
       "   'short_description': \"The former Soviet republic is London Taxi's biggest single customer. It has bought 1,000 London cabs in recent months and\",\n",
       "   'authors': 'Unknown',\n",
       "   'date': '2012-05-29'}},\n",
       " {'_index': 'news',\n",
       "  '_id': '100981',\n",
       "  '_score': 19.870852,\n",
       "  '_source': {'link': 'https://www.huffingtonpost.comhttp://mashable.com/2015/04/29/underground-tube-cinema-skyfall-london/',\n",
       "   'headline': \"London Tube 'Skyfall' Station Will Be Transformed Into A Cinema\",\n",
       "   'category': 'TRAVEL',\n",
       "   'short_description': \"LONDON — Anyone who's caught a glimpse into one of London Underground's dark corridors knows there are a lot of gloomy parts\",\n",
       "   'authors': 'Unknown',\n",
       "   'date': '2015-04-29'}},\n",
       " {'_index': 'news',\n",
       "  '_id': '189301',\n",
       "  '_score': 19.039997,\n",
       "  '_source': {'link': 'https://www.huffingtonpost.com/entry/rachel-zoe-clothing-line-dropped-failing-selfridges_us_5b9c3816e4b03a1dcc7d3190',\n",
       "   'headline': 'Rachel Zoe Clothing Line Dropped From Selfridges: Is Her Fashion Empire In Trouble?',\n",
       "   'category': 'STYLE & BEAUTY',\n",
       "   'short_description': '\"Rachel will not be doing any public appearances in London. Her London launch didn\\'t go as well as she\\'d hoped. Selfridges',\n",
       "   'authors': 'Rebecca Adams',\n",
       "   'date': '2012-09-02'}},\n",
       " {'_index': 'news',\n",
       "  '_id': '134428',\n",
       "  '_score': 18.497013,\n",
       "  '_source': {'link': 'https://www.huffingtonpost.com/entry/paris-london-infographic_us_5b9df838e4b03a1dcc8fb41f',\n",
       "   'headline': 'Paris vs. London: The Long-Lived Rivalry Continues (INFOGRAPHIC)',\n",
       "   'category': 'TRAVEL',\n",
       "   'short_description': 'The rivalry between Paris and London will probably never end. In January, London was named the most visited city in the world',\n",
       "   'authors': 'Lisa_Miller',\n",
       "   'date': '2014-04-09'}},\n",
       " {'_index': 'news',\n",
       "  '_id': '180178',\n",
       "  '_score': 18.373812,\n",
       "  '_source': {'link': 'https://www.huffingtonpost.com/entry/rome-budget-travel_us_5b9c95f2e4b03a1dcc801065',\n",
       "   'headline': 'Rome On Every Budget (PHOTOS)',\n",
       "   'category': 'TRAVEL',\n",
       "   'short_description': 'Rome is the third most-visited city is Europe, coming in just after Paris and London.',\n",
       "   'authors': 'Oyster.com, Contributor\\nThe Hotel Tell-All',\n",
       "   'date': '2012-12-09'}},\n",
       " {'_index': 'news',\n",
       "  '_id': '165978',\n",
       "  '_score': 17.873348,\n",
       "  '_source': {'link': 'https://www.huffingtonpost.com/entry/selfridges-drive-thru-cars_us_5b9d241ce4b03a1dcc84d38b',\n",
       "   'headline': 'Selfridges Drive-Thru Allows Shoppers To Never Leave Their Cars',\n",
       "   'category': 'STYLE & BEAUTY',\n",
       "   'short_description': 'Where we love ordering from: Selfridges is introducing the world\\'s first department store \"drive-thru,\" reports the London',\n",
       "   'authors': 'Ellie Krupnick',\n",
       "   'date': '2013-05-08'}},\n",
       " {'_index': 'news',\n",
       "  '_id': '15674',\n",
       "  '_score': 15.382062,\n",
       "  '_source': {'link': 'https://www.huffingtonpost.com/entry/kim-kardashian-wants-more-kids_us_5a68d590e4b0dc592a0eec21',\n",
       "   'headline': 'Kim Kardashian Reportedly Wants More Kids After Baby Chicago',\n",
       "   'category': 'ENTERTAINMENT',\n",
       "   'short_description': 'New York? London? Kansas City?',\n",
       "   'authors': 'Cole Delbyck',\n",
       "   'date': '2018-01-24'}},\n",
       " {'_index': 'news',\n",
       "  '_id': '162654',\n",
       "  '_score': 14.96518,\n",
       "  '_source': {'link': 'https://www.huffingtonpost.com/entry/great-makeout-spots-in-lo_us_5b9d3ee1e4b03a1dcc85e4cb',\n",
       "   'headline': 'Great Make-Out Spots in London (VIDEO)',\n",
       "   'category': 'TRAVEL',\n",
       "   'short_description': 'London is a very romantic city.',\n",
       "   'authors': 'Kate Thomas, Contributor\\nOn-camera Host and Video Producer, TravelwithKate.com',\n",
       "   'date': '2013-06-13'}},\n",
       " {'_index': 'news',\n",
       "  '_id': '194344',\n",
       "  '_score': 14.679272,\n",
       "  '_source': {'link': 'https://www.huffingtonpost.com/entry/taylor-tomasi-hill-fashion-week-video_us_5b9bf8cee4b03a1dcc7b76a9',\n",
       "   'headline': 'Taylor Tomasi-Hill Dances Her Way Through Sao Paulo Fashion Week (VIDEO)',\n",
       "   'category': 'STYLE & BEAUTY',\n",
       "   'short_description': 'New York Fashion Week is exhilarating. Milan is luxurious, Paris is gorgeous and London, well, London gets weird sometimes',\n",
       "   'authors': 'Sarah Leon',\n",
       "   'date': '2012-07-10'}}]"
      ]
     },
     "execution_count": 21,
     "metadata": {},
     "output_type": "execute_result"
    }
   ],
   "source": [
    "# query on 'London'\n",
    "index_name = \"news\"\n",
    "initial_query = \"London\"\n",
    "field_to_match = \"short_description\"\n",
    "expanded_results = pseudo_relevance_feedback(index_name, initial_query, field_to_match)\n",
    "expanded_results"
   ]
  },
  {
   "cell_type": "markdown",
   "id": "23e7a183-347c-4551-a02a-4833d0466e6e",
   "metadata": {},
   "source": [
    "Now let's compare the results with normal queries:"
   ]
  },
  {
   "cell_type": "code",
   "execution_count": 22,
   "id": "7a01821d-1782-4931-8f12-8f79365c0b5e",
   "metadata": {},
   "outputs": [],
   "source": [
    "def full_text_query(index, query):\n",
    "    queryft ={\n",
    "          \"query\": {\n",
    "            \"match\": {\n",
    "                \"short_description\": {\n",
    "                    \"query\": query\n",
    "                }\n",
    "            }\n",
    "          }\n",
    "        } \n",
    "    \n",
    "    answer = e.curl('get', f'{index}/_search', queryft)\n",
    "    answers = answer.json()[\"hits\"][\"hits\"]\n",
    "    return answers"
   ]
  },
  {
   "cell_type": "code",
   "execution_count": 23,
   "id": "f1d135ec-bea0-4798-bec6-c1b083bbcda5",
   "metadata": {
    "scrolled": true
   },
   "outputs": [
    {
     "data": {
      "text/plain": [
       "[{'_index': 'news',\n",
       "  '_id': '133956',\n",
       "  '_score': 15.93325,\n",
       "  '_source': {'link': 'https://www.huffingtonpost.com/entry/master-traveler-tips_us_5b9dfa8ee4b03a1dcc8fcb0e',\n",
       "   'headline': '16 Things Master Travelers Do Differently',\n",
       "   'category': 'TRAVEL',\n",
       "   'short_description': 'They know what to do during a plane crash. \"A number of crash studies focusing on both survivors and staged experiments have',\n",
       "   'authors': 'Suzy Strutner',\n",
       "   'date': '2014-04-15'}},\n",
       " {'_index': 'news',\n",
       "  '_id': '5462',\n",
       "  '_score': 15.778189,\n",
       "  '_source': {'link': 'https://www.huffpost.com/entry/iran-protests-plane-shot-down_n_5e1b1a07c5b6640ec3d5df2f',\n",
       "   'headline': 'Iranians Defy Police, Protest Over Ukranian Plane Shootdown',\n",
       "   'category': 'WORLD NEWS',\n",
       "   'short_description': 'The plane crash killed all 176 people on board, mostly Iranians and Iranian-Canadians.',\n",
       "   'authors': 'Joseph Krauss and Jon Gambrell, AP',\n",
       "   'date': '2020-01-12'}},\n",
       " {'_index': 'news',\n",
       "  '_id': '5412',\n",
       "  '_score': 14.197142,\n",
       "  '_source': {'link': 'https://www.huffpost.com/entry/iran-acknowledges-2-russian-made-missiles-targeted-ukraine-jet_n_5e26dd98c5b6321176197a88',\n",
       "   'headline': 'Iran Acknowledges 2 Russian-Made Missiles Targeted Ukraine Jet',\n",
       "   'category': 'WORLD NEWS',\n",
       "   'short_description': 'Iran released a new preliminary report on the crash of the Ukraine International Airways plane, which killed 176 people.',\n",
       "   'authors': 'Jon Gambrell, AP',\n",
       "   'date': '2020-01-21'}},\n",
       " {'_index': 'news',\n",
       "  '_id': '103908',\n",
       "  '_score': 14.197142,\n",
       "  '_source': {'link': 'https://www.huffingtonpost.com/entry/germanwings-pilot_us_55144461e4b0032ae116f40f',\n",
       "   'headline': \"I'm A Pilot, And No, I'm Not Afraid To Go To Work Today\",\n",
       "   'category': 'TRAVEL',\n",
       "   'short_description': \"This week's\\xa0Germanwings Airbus\\xa0crash -- and recent reports that the co-pilot may have crashed the plane deliberately\\xa0-- have\",\n",
       "   'authors': 'Suzy Strutner',\n",
       "   'date': '2015-03-26'}},\n",
       " {'_index': 'news',\n",
       "  '_id': '94336',\n",
       "  '_score': 13.391977,\n",
       "  '_source': {'link': 'https://www.huffingtonpost.com/entry/teenage-girl-who-survived-plane-crash-walked-for-days-before-getting-picked-up-by-motorist_us_55a45c47e4b0b8145f73747b',\n",
       "   'headline': 'Teenage Girl Who Survived Plane Crash Walked For Days Before Getting Picked Up By Motorist',\n",
       "   'category': 'CRIME',\n",
       "   'short_description': 'SEATTLE (AP) — A driver picked up a teenage girl who survived a small plane crash in a mountainous area in Washington state',\n",
       "   'authors': 'Unknown',\n",
       "   'date': '2015-07-14'}},\n",
       " {'_index': 'news',\n",
       "  '_id': '3987',\n",
       "  '_score': 13.143509,\n",
       "  '_source': {'link': 'https://www.huffpost.com/entry/steve-barnes-death_n_5f788083c5b64b480aae740e',\n",
       "   'headline': 'Attorney Steve Barnes Of Cellino & Barnes Dies In Plane Crash',\n",
       "   'category': 'U.S. NEWS',\n",
       "   'short_description': 'Barnes, whose firm was known for its ads and catchy jingle, died in a small plane crash along with his niece, Elizabeth Barnes.',\n",
       "   'authors': 'Jim Mustian, AP',\n",
       "   'date': '2020-10-03'}},\n",
       " {'_index': 'news',\n",
       "  '_id': '92248',\n",
       "  '_score': 10.365299,\n",
       "  '_source': {'link': 'https://www.huffingtonpost.com/entry/behind-the-scenes-with-luke-bryan-new-album-kill-the-lights_us_55c3a4d5e4b0f1cbf1e4202d',\n",
       "   'headline': \"Go Behind The Scenes With Luke Bryan As He Releases New Album 'Kill The Lights'\",\n",
       "   'category': 'ENTERTAINMENT',\n",
       "   'short_description': \"Crash his party, y'all!\",\n",
       "   'authors': 'Leigh Blickley',\n",
       "   'date': '2015-08-07'}},\n",
       " {'_index': 'news',\n",
       "  '_id': '125373',\n",
       "  '_score': 10.28199,\n",
       "  '_source': {'link': 'https://www.huffingtonpost.com/entry/comprehending-the-crash_b_5611449.html',\n",
       "   'headline': 'Comprehending the Crash',\n",
       "   'category': 'IMPACT',\n",
       "   'short_description': 'Why does a plane crash exert such a strong grip on our attention?  Perhaps the answer is obvious, yet different crashes evoke such different kinds of stories, in terms of both media impact and more personal, emotional resonances.',\n",
       "   'authors': \"Randy Malamud, ContributorRegents' Professor Of English, Georgia State University\",\n",
       "   'date': '2014-07-23'}},\n",
       " {'_index': 'news',\n",
       "  '_id': '41515',\n",
       "  '_score': 10.227196,\n",
       "  '_source': {'link': 'https://www.huffingtonpost.com/entry/hawaiian-airlines-climate-change_us_58b8711de4b01fc1bde6e3cc',\n",
       "   'headline': \"Here's What Hawaiian Airlines Is Doing To Help Fight Climate Change\",\n",
       "   'category': 'TRAVEL',\n",
       "   'short_description': 'Just \"plane\" smart.',\n",
       "   'authors': 'Suzy Strutner',\n",
       "   'date': '2017-03-03'}},\n",
       " {'_index': 'news',\n",
       "  '_id': '1144',\n",
       "  '_score': 10.029652,\n",
       "  '_source': {'link': 'https://www.huffpost.com/entry/newport-beach-helicopter-crash_n_621262c4e4b0f2c343f5d4bf',\n",
       "   'headline': 'Police Helicopter Crash Kills 1 Officer, Injures Another At California Beach',\n",
       "   'category': 'U.S. NEWS',\n",
       "   'short_description': 'The deadly crash came just hours after a separate helicopter crash along a packed beach in Miami.',\n",
       "   'authors': 'Nina Golgowski',\n",
       "   'date': '2022-02-20'}}]"
      ]
     },
     "execution_count": 23,
     "metadata": {},
     "output_type": "execute_result"
    }
   ],
   "source": [
    "full_text_query(index_name, 'plane crash')"
   ]
  },
  {
   "cell_type": "code",
   "execution_count": 24,
   "id": "1e8e41b9-e967-48ce-a455-9b8e77c89598",
   "metadata": {
    "scrolled": true
   },
   "outputs": [
    {
     "data": {
      "text/plain": [
       "[{'_index': 'news',\n",
       "  '_id': '15674',\n",
       "  '_score': 8.752179,\n",
       "  '_source': {'link': 'https://www.huffingtonpost.com/entry/kim-kardashian-wants-more-kids_us_5a68d590e4b0dc592a0eec21',\n",
       "   'headline': 'Kim Kardashian Reportedly Wants More Kids After Baby Chicago',\n",
       "   'category': 'ENTERTAINMENT',\n",
       "   'short_description': 'New York? London? Kansas City?',\n",
       "   'authors': 'Cole Delbyck',\n",
       "   'date': '2018-01-24'}},\n",
       " {'_index': 'news',\n",
       "  '_id': '162654',\n",
       "  '_score': 8.514979,\n",
       "  '_source': {'link': 'https://www.huffingtonpost.com/entry/great-makeout-spots-in-lo_us_5b9d3ee1e4b03a1dcc85e4cb',\n",
       "   'headline': 'Great Make-Out Spots in London (VIDEO)',\n",
       "   'category': 'TRAVEL',\n",
       "   'short_description': 'London is a very romantic city.',\n",
       "   'authors': 'Kate Thomas, Contributor\\nOn-camera Host and Video Producer, TravelwithKate.com',\n",
       "   'date': '2013-06-13'}},\n",
       " {'_index': 'news',\n",
       "  '_id': '194344',\n",
       "  '_score': 8.476414,\n",
       "  '_source': {'link': 'https://www.huffingtonpost.com/entry/taylor-tomasi-hill-fashion-week-video_us_5b9bf8cee4b03a1dcc7b76a9',\n",
       "   'headline': 'Taylor Tomasi-Hill Dances Her Way Through Sao Paulo Fashion Week (VIDEO)',\n",
       "   'category': 'STYLE & BEAUTY',\n",
       "   'short_description': 'New York Fashion Week is exhilarating. Milan is luxurious, Paris is gorgeous and London, well, London gets weird sometimes',\n",
       "   'authors': 'Sarah Leon',\n",
       "   'date': '2012-07-10'}},\n",
       " {'_index': 'news',\n",
       "  '_id': '57481',\n",
       "  '_score': 8.363593,\n",
       "  '_source': {'link': 'https://www.huffingtonpost.com/entry/5-things-you-must-do-in-london-while-traveling-england_us_57cdc099e4b07addc413ce14',\n",
       "   'headline': '5 Things You Must Do In London While Traveling England',\n",
       "   'category': 'TRAVEL',\n",
       "   'short_description': 'London is a tourist’s paradise owing to the several iconic attractions it has to offer.Therefore,it makes sense why London',\n",
       "   'authors': 'Rachel M. Moore, ContributorI’m a 20 something runner-girl from the Alabama area, and this...',\n",
       "   'date': '2016-09-05'}},\n",
       " {'_index': 'news',\n",
       "  '_id': '198223',\n",
       "  '_score': 8.363593,\n",
       "  '_source': {'link': 'https://www.huffingtonpost.comhttp://online.wsj.com/article/SB10001424052702304192704577404080468282556.html?mod=priority_pass',\n",
       "   'headline': 'London Taxi Company Exports Famous Cabs To Azerbaijan',\n",
       "   'category': 'TRAVEL',\n",
       "   'short_description': \"The former Soviet republic is London Taxi's biggest single customer. It has bought 1,000 London cabs in recent months and\",\n",
       "   'authors': 'Unknown',\n",
       "   'date': '2012-05-29'}},\n",
       " {'_index': 'news',\n",
       "  '_id': '39791',\n",
       "  '_score': 8.290297,\n",
       "  '_source': {'link': 'https://www.huffingtonpost.com/entry/london-attack-not-afraid_us_58d39abae4b02d33b748b003',\n",
       "   'headline': \"Londoners Raise Their Voices To Let The World Know They're Not Afraid\",\n",
       "   'category': 'MEDIA',\n",
       "   'short_description': '\"London does not get shut down. EVER.\"',\n",
       "   'authors': 'Lee Moran',\n",
       "   'date': '2017-03-23'}},\n",
       " {'_index': 'news',\n",
       "  '_id': '81536',\n",
       "  '_score': 8.253736,\n",
       "  '_source': {'link': 'https://www.huffingtonpost.com/entry/three-injured-in-knife-attack-terror-incident-in-london-metro_us_56636ccde4b072e9d1c675ca',\n",
       "   'headline': \"3 Injured After Knife 'Terror Attack' In London Underground\",\n",
       "   'category': 'THE WORLDPOST',\n",
       "   'short_description': 'LONDON, Dec 5 (Reuters) - A man with a knife stabbed another in an east London metro station on Saturday evening, reportedly',\n",
       "   'authors': 'Unknown',\n",
       "   'date': '2015-12-05'}},\n",
       " {'_index': 'news',\n",
       "  '_id': '100981',\n",
       "  '_score': 8.253736,\n",
       "  '_source': {'link': 'https://www.huffingtonpost.comhttp://mashable.com/2015/04/29/underground-tube-cinema-skyfall-london/',\n",
       "   'headline': \"London Tube 'Skyfall' Station Will Be Transformed Into A Cinema\",\n",
       "   'category': 'TRAVEL',\n",
       "   'short_description': \"LONDON — Anyone who's caught a glimpse into one of London Underground's dark corridors knows there are a lot of gloomy parts\",\n",
       "   'authors': 'Unknown',\n",
       "   'date': '2015-04-29'}},\n",
       " {'_index': 'news',\n",
       "  '_id': '189301',\n",
       "  '_score': 8.253736,\n",
       "  '_source': {'link': 'https://www.huffingtonpost.com/entry/rachel-zoe-clothing-line-dropped-failing-selfridges_us_5b9c3816e4b03a1dcc7d3190',\n",
       "   'headline': 'Rachel Zoe Clothing Line Dropped From Selfridges: Is Her Fashion Empire In Trouble?',\n",
       "   'category': 'STYLE & BEAUTY',\n",
       "   'short_description': '\"Rachel will not be doing any public appearances in London. Her London launch didn\\'t go as well as she\\'d hoped. Selfridges',\n",
       "   'authors': 'Rebecca Adams',\n",
       "   'date': '2012-09-02'}},\n",
       " {'_index': 'news',\n",
       "  '_id': '134428',\n",
       "  '_score': 8.146727,\n",
       "  '_source': {'link': 'https://www.huffingtonpost.com/entry/paris-london-infographic_us_5b9df838e4b03a1dcc8fb41f',\n",
       "   'headline': 'Paris vs. London: The Long-Lived Rivalry Continues (INFOGRAPHIC)',\n",
       "   'category': 'TRAVEL',\n",
       "   'short_description': 'The rivalry between Paris and London will probably never end. In January, London was named the most visited city in the world',\n",
       "   'authors': 'Lisa_Miller',\n",
       "   'date': '2014-04-09'}}]"
      ]
     },
     "execution_count": 24,
     "metadata": {},
     "output_type": "execute_result"
    }
   ],
   "source": [
    "full_text_query(index_name, 'London')"
   ]
  },
  {
   "cell_type": "markdown",
   "id": "97e13224-e8eb-463a-8fd3-cadfdd8cd380",
   "metadata": {},
   "source": [
    "##### Results comparison for news with 'plane crash'"
   ]
  },
  {
   "cell_type": "markdown",
   "id": "c1c0af3e-f783-40ad-83dd-523aa400d0df",
   "metadata": {},
   "source": [
    "So when we do an extended query on 'plane 'crash' we see the results obtained are more targeted towards accidents, whereas when we perform a simple full text query we observe that in the results retrieved we also have articles about survival, but also just articles where we only find either plane or crush but not both together. So overall, this search returns a bigger undefined range of results. This shows how doing an extended query using pseudo relevance we are able to refine and narrow the topic."
   ]
  },
  {
   "cell_type": "markdown",
   "id": "bcfa0bdf-f69d-470a-8541-27709f43276a",
   "metadata": {},
   "source": [
    "##### Results comparison for news with 'London'"
   ]
  },
  {
   "cell_type": "markdown",
   "id": "b5a46ece-a2df-44cc-8232-170adc3e5cf8",
   "metadata": {},
   "source": [
    "Again it can be seen how when performing only a simple search, the first results obtained are broader and maybe not to the point (being mentioned in passing but not as the main focus, as the name of a person ...), meanwhile when doing an extended search using pseudo relevance we observe most focalized results on London being the first ones to appear."
   ]
  }
 ],
 "metadata": {
  "kernelspec": {
   "display_name": "Python 3 (ipykernel)",
   "language": "python",
   "name": "python3"
  },
  "language_info": {
   "codemirror_mode": {
    "name": "ipython",
    "version": 3
   },
   "file_extension": ".py",
   "mimetype": "text/x-python",
   "name": "python",
   "nbconvert_exporter": "python",
   "pygments_lexer": "ipython3",
   "version": "3.11.8"
  }
 },
 "nbformat": 4,
 "nbformat_minor": 5
}
