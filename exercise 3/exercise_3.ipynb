{
 "cells": [
  {
   "cell_type": "markdown",
   "id": "626bcfbf-202b-48a0-9cd9-5e6739a67599",
   "metadata": {},
   "source": [
    "# Exercise 3\n",
    "\n",
    "Train a set of LTR models (ListNet, LambdaMART, and RankBoost) on Microsoft dataset and evaluate their performance \n",
    "on the test set using MRR@10, NDCG@10, and P@10."
   ]
  },
  {
   "cell_type": "code",
   "execution_count": 2,
   "id": "67b742ae-bdea-4414-a6dd-cc23fae1b8b9",
   "metadata": {},
   "outputs": [],
   "source": [
    "import pandas as pd\n",
    "import os\n",
    "import re\n",
    "import json, jsonify\n",
    "import time\n",
    "import requests\n",
    "from requests.auth import HTTPBasicAuth\n",
    "from collections import defaultdict\n",
    "import numpy as np\n",
    "import matplotlib.pyplot as plt\n"
   ]
  },
  {
   "cell_type": "markdown",
   "id": "3e944640-b737-4d24-b2c5-ce602597610d",
   "metadata": {},
   "source": [
    "### Load the data"
   ]
  },
  {
   "cell_type": "code",
   "execution_count": 3,
   "id": "a14648fa-a06e-4f25-b61b-8a4f2a533593",
   "metadata": {},
   "outputs": [],
   "source": [
    "# Parse txt files for the data\n",
    "def parse_line(line):\n",
    "    line = line.strip().split(' ')\n",
    "\n",
    "    relevance = int(line[0])\n",
    "    query_id = int(line[1].split(':')[1])\n",
    "    features = defaultdict(int)\n",
    "    for item in line[2:]:\n",
    "        feature_index, feature_value = item.split(':')\n",
    "        features[int(feature_index)] = float(feature_value)\n",
    "    return {'relevance': relevance, 'query_id': query_id, **features}\n",
    "\n",
    "# Load the dataset\n",
    "def load_dataset(file_path):\n",
    "    data = []\n",
    "    with open(file_path, 'r') as file:\n",
    "        for line in file:\n",
    "            data.append(parse_line(line))\n",
    "    return pd.DataFrame(data)\n",
    "\n",
    "# Load the dataset\n",
    "file_path_train = '../data/microsoft_ltr/microsoft_ltr_train.txt'\n",
    "file_path_test = '../data/microsoft_ltr/microsoft_ltr_test.txt'"
   ]
  },
  {
   "cell_type": "code",
   "execution_count": 4,
   "id": "3fb05e31-3b40-4908-a1f1-1ef046a7dfb0",
   "metadata": {},
   "outputs": [],
   "source": [
    "df_ranklib_train = pd.read_csv('../data/microsoft_ltr/microsoft_ltr_train.txt', delimiter=\" \", header=None)\n",
    "df_ranklib_test = pd.read_csv('../data/microsoft_ltr/microsoft_ltr_test.txt', delimiter=\" \", header=None)"
   ]
  },
  {
   "cell_type": "markdown",
   "id": "70d2fa83-e3a5-4200-9e7b-982d4481d3f7",
   "metadata": {},
   "source": [
    "Clean the data:"
   ]
  },
  {
   "cell_type": "code",
   "execution_count": 5,
   "id": "d3a9b027-848f-422b-8c4e-b594be9a06fb",
   "metadata": {},
   "outputs": [],
   "source": [
    "df_ranklib_train.drop(138, axis=1, inplace=True)\n",
    "df_ranklib_test.drop(138, axis=1, inplace=True)\n",
    "columns = ['relevance', 'query_id'] + list(range(1,137))\n",
    "df_ranklib_train.columns = columns\n",
    "df_ranklib_test.columns = columns"
   ]
  },
  {
   "cell_type": "code",
   "execution_count": 6,
   "id": "13c06f1e-12de-47fb-8c66-8f4f59928229",
   "metadata": {},
   "outputs": [
    {
     "data": {
      "text/html": [
       "<div>\n",
       "<style scoped>\n",
       "    .dataframe tbody tr th:only-of-type {\n",
       "        vertical-align: middle;\n",
       "    }\n",
       "\n",
       "    .dataframe tbody tr th {\n",
       "        vertical-align: top;\n",
       "    }\n",
       "\n",
       "    .dataframe thead th {\n",
       "        text-align: right;\n",
       "    }\n",
       "</style>\n",
       "<table border=\"1\" class=\"dataframe\">\n",
       "  <thead>\n",
       "    <tr style=\"text-align: right;\">\n",
       "      <th></th>\n",
       "      <th>relevance</th>\n",
       "      <th>query_id</th>\n",
       "      <th>1</th>\n",
       "      <th>2</th>\n",
       "      <th>3</th>\n",
       "      <th>4</th>\n",
       "      <th>5</th>\n",
       "      <th>6</th>\n",
       "      <th>7</th>\n",
       "      <th>8</th>\n",
       "      <th>...</th>\n",
       "      <th>127</th>\n",
       "      <th>128</th>\n",
       "      <th>129</th>\n",
       "      <th>130</th>\n",
       "      <th>131</th>\n",
       "      <th>132</th>\n",
       "      <th>133</th>\n",
       "      <th>134</th>\n",
       "      <th>135</th>\n",
       "      <th>136</th>\n",
       "    </tr>\n",
       "  </thead>\n",
       "  <tbody>\n",
       "    <tr>\n",
       "      <th>0</th>\n",
       "      <td>2</td>\n",
       "      <td>qid:1</td>\n",
       "      <td>1:3</td>\n",
       "      <td>2:3</td>\n",
       "      <td>3:0</td>\n",
       "      <td>4:0</td>\n",
       "      <td>5:3</td>\n",
       "      <td>6:1</td>\n",
       "      <td>7:1</td>\n",
       "      <td>8:0</td>\n",
       "      <td>...</td>\n",
       "      <td>127:62</td>\n",
       "      <td>128:11089534</td>\n",
       "      <td>129:2</td>\n",
       "      <td>130:116</td>\n",
       "      <td>131:64034</td>\n",
       "      <td>132:13</td>\n",
       "      <td>133:3</td>\n",
       "      <td>134:0</td>\n",
       "      <td>135:0</td>\n",
       "      <td>136:0</td>\n",
       "    </tr>\n",
       "    <tr>\n",
       "      <th>1</th>\n",
       "      <td>2</td>\n",
       "      <td>qid:1</td>\n",
       "      <td>1:3</td>\n",
       "      <td>2:0</td>\n",
       "      <td>3:3</td>\n",
       "      <td>4:0</td>\n",
       "      <td>5:3</td>\n",
       "      <td>6:1</td>\n",
       "      <td>7:0</td>\n",
       "      <td>8:1</td>\n",
       "      <td>...</td>\n",
       "      <td>127:54</td>\n",
       "      <td>128:11089534</td>\n",
       "      <td>129:2</td>\n",
       "      <td>130:124</td>\n",
       "      <td>131:64034</td>\n",
       "      <td>132:1</td>\n",
       "      <td>133:2</td>\n",
       "      <td>134:0</td>\n",
       "      <td>135:0</td>\n",
       "      <td>136:0</td>\n",
       "    </tr>\n",
       "    <tr>\n",
       "      <th>2</th>\n",
       "      <td>0</td>\n",
       "      <td>qid:1</td>\n",
       "      <td>1:3</td>\n",
       "      <td>2:0</td>\n",
       "      <td>3:2</td>\n",
       "      <td>4:0</td>\n",
       "      <td>5:3</td>\n",
       "      <td>6:1</td>\n",
       "      <td>7:0</td>\n",
       "      <td>8:0.666667</td>\n",
       "      <td>...</td>\n",
       "      <td>127:45</td>\n",
       "      <td>128:3</td>\n",
       "      <td>129:1</td>\n",
       "      <td>130:124</td>\n",
       "      <td>131:3344</td>\n",
       "      <td>132:14</td>\n",
       "      <td>133:67</td>\n",
       "      <td>134:0</td>\n",
       "      <td>135:0</td>\n",
       "      <td>136:0</td>\n",
       "    </tr>\n",
       "    <tr>\n",
       "      <th>3</th>\n",
       "      <td>2</td>\n",
       "      <td>qid:1</td>\n",
       "      <td>1:3</td>\n",
       "      <td>2:0</td>\n",
       "      <td>3:3</td>\n",
       "      <td>4:0</td>\n",
       "      <td>5:3</td>\n",
       "      <td>6:1</td>\n",
       "      <td>7:0</td>\n",
       "      <td>8:1</td>\n",
       "      <td>...</td>\n",
       "      <td>127:56</td>\n",
       "      <td>128:11089534</td>\n",
       "      <td>129:13</td>\n",
       "      <td>130:123</td>\n",
       "      <td>131:63933</td>\n",
       "      <td>132:1</td>\n",
       "      <td>133:3</td>\n",
       "      <td>134:0</td>\n",
       "      <td>135:0</td>\n",
       "      <td>136:0</td>\n",
       "    </tr>\n",
       "    <tr>\n",
       "      <th>4</th>\n",
       "      <td>1</td>\n",
       "      <td>qid:1</td>\n",
       "      <td>1:3</td>\n",
       "      <td>2:0</td>\n",
       "      <td>3:3</td>\n",
       "      <td>4:0</td>\n",
       "      <td>5:3</td>\n",
       "      <td>6:1</td>\n",
       "      <td>7:0</td>\n",
       "      <td>8:1</td>\n",
       "      <td>...</td>\n",
       "      <td>127:64</td>\n",
       "      <td>128:5</td>\n",
       "      <td>129:7</td>\n",
       "      <td>130:256</td>\n",
       "      <td>131:49697</td>\n",
       "      <td>132:1</td>\n",
       "      <td>133:13</td>\n",
       "      <td>134:0</td>\n",
       "      <td>135:0</td>\n",
       "      <td>136:0</td>\n",
       "    </tr>\n",
       "  </tbody>\n",
       "</table>\n",
       "<p>5 rows × 138 columns</p>\n",
       "</div>"
      ],
      "text/plain": [
       "   relevance query_id    1    2    3    4    5    6    7           8  ...  \\\n",
       "0          2    qid:1  1:3  2:3  3:0  4:0  5:3  6:1  7:1         8:0  ...   \n",
       "1          2    qid:1  1:3  2:0  3:3  4:0  5:3  6:1  7:0         8:1  ...   \n",
       "2          0    qid:1  1:3  2:0  3:2  4:0  5:3  6:1  7:0  8:0.666667  ...   \n",
       "3          2    qid:1  1:3  2:0  3:3  4:0  5:3  6:1  7:0         8:1  ...   \n",
       "4          1    qid:1  1:3  2:0  3:3  4:0  5:3  6:1  7:0         8:1  ...   \n",
       "\n",
       "      127           128     129      130        131     132     133    134  \\\n",
       "0  127:62  128:11089534   129:2  130:116  131:64034  132:13   133:3  134:0   \n",
       "1  127:54  128:11089534   129:2  130:124  131:64034   132:1   133:2  134:0   \n",
       "2  127:45         128:3   129:1  130:124   131:3344  132:14  133:67  134:0   \n",
       "3  127:56  128:11089534  129:13  130:123  131:63933   132:1   133:3  134:0   \n",
       "4  127:64         128:5   129:7  130:256  131:49697   132:1  133:13  134:0   \n",
       "\n",
       "     135    136  \n",
       "0  135:0  136:0  \n",
       "1  135:0  136:0  \n",
       "2  135:0  136:0  \n",
       "3  135:0  136:0  \n",
       "4  135:0  136:0  \n",
       "\n",
       "[5 rows x 138 columns]"
      ]
     },
     "execution_count": 6,
     "metadata": {},
     "output_type": "execute_result"
    }
   ],
   "source": [
    "df_ranklib_train.head()"
   ]
  },
  {
   "cell_type": "markdown",
   "id": "76de4532-e054-41df-b3a7-7eb6af9383ac",
   "metadata": {},
   "source": [
    "Transform it to RankLib format:"
   ]
  },
  {
   "cell_type": "code",
   "execution_count": 7,
   "id": "8f804b91-ad83-4761-939c-ca88b8da29aa",
   "metadata": {},
   "outputs": [],
   "source": [
    "df_ranklib_train.to_csv('microsoft-train_ranklib.tsv', header=False, index=False, sep='\\t')\n",
    "df_ranklib_test.to_csv('microsoft-test_ranklib.tsv', header=False, index=False, sep='\\t')"
   ]
  },
  {
   "cell_type": "markdown",
   "id": "3864908d-d46e-44b1-a7e1-a690c22a3922",
   "metadata": {},
   "source": [
    "### Train ListNet Ranker model"
   ]
  },
  {
   "cell_type": "code",
   "execution_count": 9,
   "id": "5ee296f3-a02a-4f9e-9f48-bc1d5b30178d",
   "metadata": {},
   "outputs": [
    {
     "name": "stdout",
     "output_type": "stream",
     "text": [
      "Running RankLib\n",
      "Finished\n"
     ]
    }
   ],
   "source": [
    "feature_file = 'microsoft-train_ranklib.tsv'\n",
    "test_file = 'microsoft-test_ranklib.tsv'\n",
    "model_file = 'models/listnet_model.txt'\n",
    "cmd = f'java -jar RankLib-2.9.jar -train {feature_file} -ranker 7 -save {model_file}'\n",
    "print('Running RankLib')\n",
    "os.system(cmd)\n",
    "print('Finished')"
   ]
  },
  {
   "cell_type": "markdown",
   "id": "0a72f66c-6e10-4e4b-87bf-88bafff8214c",
   "metadata": {},
   "source": [
    "### Train using LambdaMart Ranker"
   ]
  },
  {
   "cell_type": "code",
   "execution_count": 10,
   "id": "498793c1-16ad-49c7-b3cf-877e69c4091d",
   "metadata": {},
   "outputs": [
    {
     "name": "stdout",
     "output_type": "stream",
     "text": [
      "Running RankLib\n",
      "Finished\n"
     ]
    }
   ],
   "source": [
    "model_file = 'models/lambdamart_model.txt'\n",
    "cmd = f'java -jar RankLib-2.9.jar -train {feature_file} -ranker 6 -save {model_file}'\n",
    "print('Running RankLib')\n",
    "os.system(cmd)\n",
    "print('Finished')"
   ]
  },
  {
   "cell_type": "markdown",
   "id": "f4522558-7aa8-4bf6-8380-a8b13f009cca",
   "metadata": {},
   "source": [
    "### Train using RankBoost Ranker"
   ]
  },
  {
   "cell_type": "code",
   "execution_count": 11,
   "id": "92a7ce96-3608-4585-8c3b-eb4dc925b54a",
   "metadata": {},
   "outputs": [
    {
     "name": "stdout",
     "output_type": "stream",
     "text": [
      "Running RankLib\n",
      "Finished\n"
     ]
    }
   ],
   "source": [
    "model_file = 'models/rankboost_model.txt'\n",
    "cmd = f'java -jar RankLib-2.9.jar -train {feature_file} -ranker 2 -save {model_file}'\n",
    "print('Running RankLib')\n",
    "os.system(cmd)\n",
    "print('Finished')"
   ]
  },
  {
   "cell_type": "markdown",
   "id": "c827a04f-688e-43b3-bcbf-a0df74636181",
   "metadata": {},
   "source": [
    "### Test the models"
   ]
  },
  {
   "cell_type": "code",
   "execution_count": 12,
   "id": "c4f90d52-bb9c-4c1d-be6c-3c9c4cfd9c02",
   "metadata": {},
   "outputs": [
    {
     "name": "stdout",
     "output_type": "stream",
     "text": [
      "Finished\n",
      "Finished\n",
      "Finished\n"
     ]
    }
   ],
   "source": [
    "# ListNet NDCG@10, MRR@10, P@10\n",
    "cmd =f'java -jar RankLib-2.9.jar -load models/listnet_model.txt -test {test_file} -metric2T NDCG@10 -idv output/listnet.ndcg.txt'\n",
    "os.system(cmd)\n",
    "print('Finished')\n",
    "cmd =f'java -jar RankLib-2.9.jar -load models/listnet_model.txt -test {test_file} -metric2T P@10 -idv output/listnet.p.txt'\n",
    "os.system(cmd)\n",
    "print('Finished')\n",
    "cmd =f'java -jar RankLib-2.9.jar -load models/listnet_model.txt -test {test_file} -metric2T RR@10 -idv output/listnet.rr.txt'\n",
    "os.system(cmd)\n",
    "print('Finished')"
   ]
  },
  {
   "cell_type": "code",
   "execution_count": 13,
   "id": "166f042e-7d73-42db-be76-21af8911f27a",
   "metadata": {},
   "outputs": [
    {
     "name": "stdout",
     "output_type": "stream",
     "text": [
      "Finished\n",
      "Finished\n",
      "Finished\n"
     ]
    }
   ],
   "source": [
    "# LambdaMart NDCG@10, MRR@10, P@10\n",
    "cmd =f'java -jar RankLib-2.9.jar -load models/lambdamart_model.txt -test {test_file} -metric2T NDCG@10 -idv output/lambdamart.ndcg.txt'\n",
    "os.system(cmd)\n",
    "print('Finished')\n",
    "cmd =f'java -jar RankLib-2.9.jar -load models/lambdamart_model.txt -test {test_file} -metric2T P@10 -idv output/lambdamart.p.txt'\n",
    "os.system(cmd)\n",
    "print('Finished')\n",
    "cmd =f'java -jar RankLib-2.9.jar -load models/lambdamart_model.txt -test {test_file} -metric2T RR@10 -idv output/lambdamart.rr.txt'\n",
    "os.system(cmd)\n",
    "print('Finished')"
   ]
  },
  {
   "cell_type": "code",
   "execution_count": 14,
   "id": "b6ff640a-5289-4e2e-9222-5761a7fbad23",
   "metadata": {},
   "outputs": [
    {
     "name": "stdout",
     "output_type": "stream",
     "text": [
      "Finished\n",
      "Finished\n",
      "Finished\n"
     ]
    }
   ],
   "source": [
    "# RankBoost NDCG@10, MRR@10, P@10\n",
    "cmd =f'java -jar RankLib-2.9.jar -load models/rankboost_model.txt -test {test_file} -metric2T NDCG@10 -idv output/rankboost.ndcg.txt'\n",
    "os.system(cmd)\n",
    "print('Finished')\n",
    "cmd =f'java -jar RankLib-2.9.jar -load models/rankboost_model.txt -test {test_file} -metric2T P@10 -idv output/rankboost.p.txt'\n",
    "os.system(cmd)\n",
    "print('Finished')\n",
    "cmd =f'java -jar RankLib-2.9.jar -load models/rankboost_model.txt -test {test_file} -metric2T RR@10 -idv output/rankboost.rr.txt'\n",
    "os.system(cmd)\n",
    "print('Finished')"
   ]
  },
  {
   "cell_type": "markdown",
   "id": "c2b51f9c-2fad-46df-ac3c-22e721562266",
   "metadata": {},
   "source": [
    "### Analysis of the performance:"
   ]
  },
  {
   "cell_type": "code",
   "execution_count": 15,
   "id": "ac9fca80-f163-4046-8243-0d059e319f68",
   "metadata": {},
   "outputs": [],
   "source": [
    "def load_results(filename):\n",
    "    with open(filename, 'r') as file:\n",
    "        lines = file.readlines()\n",
    "        results = [float(line.strip().split()[2]) for line in lines]\n",
    "    return results"
   ]
  },
  {
   "cell_type": "markdown",
   "id": "dee9052c-12eb-4313-8d1f-ec7286923f26",
   "metadata": {},
   "source": [
    "We retrieve the average of the results from the last line of the files. Notice that while the metric we test is RR@10, when we do the average we obtain MRR@10"
   ]
  },
  {
   "cell_type": "code",
   "execution_count": 16,
   "id": "35550ecd-c7cb-416e-bf59-f6e147e0cdf0",
   "metadata": {},
   "outputs": [],
   "source": [
    "# Load evaluation results for each metric and ranker\n",
    "listnet_ndcg = load_results('output/listnet.ndcg.txt')[-1]\n",
    "lambdamart_ndcg = load_results('output/lambdamart.ndcg.txt')[-1]\n",
    "rankboost_ndcg = load_results('output/rankboost.ndcg.txt')[-1]\n",
    "\n",
    "listnet_p = load_results('output/listnet.p.txt')[-1]\n",
    "lambdamart_p = load_results('output/lambdamart.p.txt')[-1]\n",
    "rankboost_p = load_results('output/rankboost.p.txt')[-1]\n",
    "\n",
    "listnet_mrr = load_results('output/listnet.rr.txt')[-1]\n",
    "lambdamart_mrr = load_results('output/lambdamart.rr.txt')[-1]\n",
    "rankboost_mrr = load_results('output/rankboost.rr.txt')[-1]"
   ]
  },
  {
   "cell_type": "code",
   "execution_count": 25,
   "id": "9a68d54d-4186-4fed-ada7-0f8660f6edde",
   "metadata": {},
   "outputs": [],
   "source": [
    "models = ['ListNet', 'LambdaMART', 'RankBoost']\n",
    "metrics = ['NDCG@10', 'P@10', 'MRR@10']\n",
    "ndcg_values = [listnet_ndcg, lambdamart_ndcg, rankboost_ndcg]\n",
    "p_values = [listnet_p, lambdamart_p, rankboost_p]\n",
    "mrr_values = [listnet_mrr, lambdamart_mrr, rankboost_mrr]\n",
    "#print(models)\n",
    "#print('--NDCG@10---')\n",
    "#print(ndcg_values)\n",
    "#print('--P@10---')\n",
    "#print(p_values)\n",
    "#print('--MRR@10---')\n",
    "#print(mrr_values)"
   ]
  },
  {
   "cell_type": "code",
   "execution_count": 22,
   "id": "86ef0969-b70d-4fec-85f7-1ee7568a6731",
   "metadata": {},
   "outputs": [
    {
     "data": {
      "image/png": "[encoded data removed]",
      "text/plain": [
       "<Figure size 1000x1200 with 3 Axes>"
      ]
     },
     "metadata": {},
     "output_type": "display_data"
    }
   ],
   "source": [
    "colors = ['#1f77b4', '#ff7f0e', '#2ca02c'] \n",
    "fig, axes = plt.subplots(3, 1, figsize=(10, 12))\n",
    "for i, (metric, values) in enumerate(zip(metrics, [ndcg_values, p_values, mrr_values])):\n",
    "    ax = axes[i]\n",
    "    bars = ax.bar(models, values, color=colors)\n",
    "    ax.set_title(f'Performance Comparison ({metric})')\n",
    "    ax.set_ylabel(metric)\n",
    "    ax.set_xlabel('Models')\n",
    "    \n",
    "    for bar, value in zip(bars, values):\n",
    "        ax.text(bar.get_x() + bar.get_width() / 2, bar.get_height(), f'{value:.3f}', ha='center', va='bottom')\n",
    "\n",
    "fig.legend(bars, models, loc='upper right', bbox_to_anchor=(1, 1))\n",
    "\n",
    "plt.tight_layout()\n",
    "plt.show()"
   ]
  },
  {
   "cell_type": "markdown",
   "id": "1eb30f6f-496c-4aa3-b1e9-5bc56287dd73",
   "metadata": {},
   "source": [
    "### Thoughts and insights on the results:"
   ]
  },
  {
   "cell_type": "markdown",
   "id": "d4e604b7-9c6a-4a57-9161-6a180ae4df9d",
   "metadata": {},
   "source": [
    "I initially expected LambdaMart to be the best performing model, and although it has the best nDCG and MRR, in P@10 RankBoost outperforms it but just by a very small difference. \n",
    "\n",
    "That LambdaMart has the best nDCG is not a surprise, since the algorithm implicitly optimizes said metric. The result for MRR suggest that the algorithm quite frequently ranks relevant results higher in the list of results. So unsurprisingly, LambdaMart's hybrid approach is overall the best.\n",
    "\n",
    "Now we know that pairwise approaches can be misleading as the quality of the ranking cannot be fully conveyed by only comparing pairs, so we need to keep that in mind when observing Rankboost results. In the same way, listwise approaches are train directly on the difference between the prediction list and the ground truth list, so their results are sound.\n",
    "\n",
    "That said, in this dataset, ListNet results are quite underwhelming and indicates that this approach is not really fit for this instance, and although Rankboost results appear to be good, the quality of the ranking might not be that great."
   ]
  }
 ],
 "metadata": {
  "kernelspec": {
   "display_name": "Python 3 (ipykernel)",
   "language": "python",
   "name": "python3"
  },
  "language_info": {
   "codemirror_mode": {
    "name": "ipython",
    "version": 3
   },
   "file_extension": ".py",
   "mimetype": "text/x-python",
   "name": "python",
   "nbconvert_exporter": "python",
   "pygments_lexer": "ipython3",
   "version": "3.11.8"
  }
 },
 "nbformat": 4,
 "nbformat_minor": 5
}
