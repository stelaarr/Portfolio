{
 "cells": [
  {
   "cell_type": "code",
   "execution_count": 1,
   "id": "05faf546-44ec-46c2-8438-9a582d2f0046",
   "metadata": {},
   "outputs": [],
   "source": [
    "import pandas as pd"
   ]
  },
  {
   "cell_type": "code",
   "execution_count": 2,
   "id": "2450c5fb-200f-4bbe-885e-c3c06f6aea8a",
   "metadata": {},
   "outputs": [],
   "source": [
    "from statsmodels.stats.weightstats import ttest_ind\n",
    "from statsmodels.stats.power import TTestIndPower\n",
    "import numpy as np\n",
    "from numpy.random import normal\n",
    "import numpy.random\n",
    "import scipy.stats as st\n",
    "\n",
    "def winsorize(l, minv, maxv):\n",
    "    return [min(maxv, max(minv, round(r,2))) for r in l]"
   ]
  },
  {
   "cell_type": "markdown",
   "id": "21325ea4-e42c-4f31-8197-ecac9e3282f2",
   "metadata": {},
   "source": [
    "### Load the data"
   ]
  },
  {
   "cell_type": "code",
   "execution_count": 3,
   "id": "fa9b3fcf-caa5-4b59-8428-4592b9c3a7ae",
   "metadata": {},
   "outputs": [
    {
     "data": {
      "text/html": [
       "<div>\n",
       "<style scoped>\n",
       "    .dataframe tbody tr th:only-of-type {\n",
       "        vertical-align: middle;\n",
       "    }\n",
       "\n",
       "    .dataframe tbody tr th {\n",
       "        vertical-align: top;\n",
       "    }\n",
       "\n",
       "    .dataframe thead th {\n",
       "        text-align: right;\n",
       "    }\n",
       "</style>\n",
       "<table border=\"1\" class=\"dataframe\">\n",
       "  <thead>\n",
       "    <tr style=\"text-align: right;\">\n",
       "      <th></th>\n",
       "      <th>rating</th>\n",
       "      <th>type</th>\n",
       "    </tr>\n",
       "  </thead>\n",
       "  <tbody>\n",
       "    <tr>\n",
       "      <th>0</th>\n",
       "      <td>2.47</td>\n",
       "      <td>historical</td>\n",
       "    </tr>\n",
       "    <tr>\n",
       "      <th>1</th>\n",
       "      <td>1.50</td>\n",
       "      <td>historical</td>\n",
       "    </tr>\n",
       "    <tr>\n",
       "      <th>2</th>\n",
       "      <td>4.33</td>\n",
       "      <td>historical</td>\n",
       "    </tr>\n",
       "    <tr>\n",
       "      <th>3</th>\n",
       "      <td>2.34</td>\n",
       "      <td>historical</td>\n",
       "    </tr>\n",
       "    <tr>\n",
       "      <th>4</th>\n",
       "      <td>3.60</td>\n",
       "      <td>historical</td>\n",
       "    </tr>\n",
       "  </tbody>\n",
       "</table>\n",
       "</div>"
      ],
      "text/plain": [
       "   rating        type\n",
       "0    2.47  historical\n",
       "1    1.50  historical\n",
       "2    4.33  historical\n",
       "3    2.34  historical\n",
       "4    3.60  historical"
      ]
     },
     "execution_count": 3,
     "metadata": {},
     "output_type": "execute_result"
    }
   ],
   "source": [
    "df_ratings = pd.read_csv('../data/abtest/customer_service_ratings.csv') \n",
    "df_ratings.head()"
   ]
  },
  {
   "cell_type": "markdown",
   "id": "de1a9b3b-8f5f-492d-ac64-06e8f7ae50eb",
   "metadata": {},
   "source": [
    "### Superficial EDA"
   ]
  },
  {
   "cell_type": "code",
   "execution_count": 4,
   "id": "d79fe91b-49fd-4009-9ff0-51ed99e140dc",
   "metadata": {},
   "outputs": [
    {
     "data": {
      "text/plain": [
       "rating    0\n",
       "type      0\n",
       "dtype: int64"
      ]
     },
     "execution_count": 4,
     "metadata": {},
     "output_type": "execute_result"
    }
   ],
   "source": [
    "# Nan values?\n",
    "nan_values = df_ratings.isna().sum()\n",
    "nan_values"
   ]
  },
  {
   "cell_type": "code",
   "execution_count": 5,
   "id": "b822d086-5145-4b7e-a48e-8bab9c0dcbe6",
   "metadata": {},
   "outputs": [
    {
     "data": {
      "text/plain": [
       "(51000, 2)"
      ]
     },
     "execution_count": 5,
     "metadata": {},
     "output_type": "execute_result"
    }
   ],
   "source": [
    "df_ratings.shape"
   ]
  },
  {
   "cell_type": "markdown",
   "id": "7ff07860-076c-4c9a-a5c8-46416f724a9a",
   "metadata": {},
   "source": [
    "### A/B test\n",
    "After 50,000 ratings, the manager of the service decides to roll out a new automated assistant feature powered by an AI module.\n",
    "\n",
    "To test the effectiveness of the new system, the manager decides to run an A/B test, where 20% of the traffic is directed to the new AI system and 80% to the old system. The service usually receives 100 customers every day. \n",
    "\n",
    "After 10 days, the manager stops the A/B test and hands the data over to the Data Science department (you), to establish whether the new AI system had an effect. Management would like to see an absolute increase of 0.1 in the average user satisfaction score to roll out the feature to the whole user base."
   ]
  },
  {
   "cell_type": "code",
   "execution_count": 6,
   "id": "9d89dcb1-9b49-45b1-ab84-a0be43d8e741",
   "metadata": {},
   "outputs": [],
   "source": [
    "historical_ratings = df_ratings[df_ratings['type']=='historical']['rating'].tolist()"
   ]
  },
  {
   "cell_type": "markdown",
   "id": "fce8730c-14a0-4f84-b18f-93abb5568faf",
   "metadata": {},
   "source": [
    "##### Quantifying historical revenue and state expectations"
   ]
  },
  {
   "cell_type": "code",
   "execution_count": 21,
   "id": "e481fe90-84e7-4302-bf1d-6a5915082390",
   "metadata": {},
   "outputs": [
    {
     "name": "stdout",
     "output_type": "stream",
     "text": [
      "The historical standard deviation of the ratings is 1.29 and on average the customers rate 3.39 to the service.\n"
     ]
    }
   ],
   "source": [
    "historical_ratings_stdev = np.std(historical_ratings)\n",
    "customer_experience_average = np.mean(historical_ratings)\n",
    "print(f'The historical standard deviation of the ratings is {round(historical_ratings_stdev,2)} and on average the customers \\\n",
    "rate {round(customer_experience_average,2)} to the service.')"
   ]
  },
  {
   "cell_type": "markdown",
   "id": "10637e30-6ca6-40f2-8fcc-4398c8fe1865",
   "metadata": {},
   "source": [
    "Now the Cohen's d will give us the effect size knowing we expect a lift of 0.1:"
   ]
  },
  {
   "cell_type": "code",
   "execution_count": 8,
   "id": "e29a11d7-7bf5-4e8c-83cf-95e1d1af322e",
   "metadata": {},
   "outputs": [
    {
     "name": "stdout",
     "output_type": "stream",
     "text": [
      "The effect size desired is 0.08\n"
     ]
    }
   ],
   "source": [
    "d = 0.1/historical_ratings_stdev\n",
    "print(f'The effect size desired is {round(d,2)}')"
   ]
  },
  {
   "cell_type": "markdown",
   "id": "1bba97ca-82ed-4b5a-ad9d-b6c8778096a2",
   "metadata": {},
   "source": [
    "Now that we have the effect size, let's start analysing and collecting results:"
   ]
  },
  {
   "cell_type": "code",
   "execution_count": 9,
   "id": "08acb258-4ad8-47f9-87be-4415c8771d77",
   "metadata": {},
   "outputs": [],
   "source": [
    "# Control and treatment data\n",
    "control_rating = df_ratings[df_ratings['type']=='control']['rating'].tolist()\n",
    "control_mean = np.mean(control_rating)\n",
    "treatment_rating = df_ratings[df_ratings['type']=='treatment']['rating'].tolist()\n",
    "treatment_mean = np.mean(treatment_rating)"
   ]
  },
  {
   "cell_type": "markdown",
   "id": "32add958-69b1-40f0-b466-7e94938e6123",
   "metadata": {},
   "source": [
    "##### Is our effect statistically significant?\n",
    "We'll check first if the difference between treatment and control is statistically significant:"
   ]
  },
  {
   "cell_type": "code",
   "execution_count": 10,
   "id": "0404bde8-f792-4134-b9cf-1473f9a29f7e",
   "metadata": {},
   "outputs": [
    {
     "name": "stdout",
     "output_type": "stream",
     "text": [
      "The p-value is 0.00279\n",
      "The difference in revenue between control and treatment groups is statistically significant.\n"
     ]
    }
   ],
   "source": [
    "t_stat, p_value = st.ttest_ind(control_rating, treatment_rating)\n",
    "\n",
    "# Check if the p-value is less than the significance level (proposing a 95% confidence)\n",
    "alpha = 0.05\n",
    "print(f'The p-value is {round(p_value,5)}')\n",
    "if p_value < alpha:\n",
    "    print(\"The difference in revenue between control and treatment groups is statistically significant.\")\n",
    "else:\n",
    "    print(\"The difference in revenue between control and treatment groups is not statistically significant.\")"
   ]
  },
  {
   "cell_type": "markdown",
   "id": "bb00df53-748e-4c0b-adee-2ebdd554ef4f",
   "metadata": {},
   "source": [
    "Since both treatment and control groups are quite big, it is easy to obtain a statistical significance, so we'll need to analyse more in order to determine if the experiment is successful or not."
   ]
  },
  {
   "cell_type": "markdown",
   "id": "6d207971-1421-41a5-a13b-d2961cfb2d9f",
   "metadata": {},
   "source": [
    "##### Is the magnitude of our effect good enough?\n",
    "Now management is expecting at the very minimum an ensured 0.1 lift in our customer service rating. Let's check if that is the case:"
   ]
  },
  {
   "cell_type": "code",
   "execution_count": 17,
   "id": "cb47d218-207b-4adb-8e11-6bd574e93210",
   "metadata": {},
   "outputs": [
    {
     "name": "stdout",
     "output_type": "stream",
     "text": [
      "The confidence interval at 95% is (3.473,3.808)\n",
      "The magnitude of the gap is high enough, we can guarantee 3.443\n"
     ]
    }
   ],
   "source": [
    "# Calculate confidence interval for treatment group revenue\n",
    "lower, upper = st.t.interval(confidence=0.95, df=len(treatment_rating)-1, loc=np.mean(treatment_rating), scale=st.sem(treatment_rating))\n",
    "\n",
    "threshold = round(control_mean + 0.1,3)\n",
    "print(f'The confidence interval at 95% is ({round(lower,3)},{round(upper,3)})')\n",
    "\n",
    "# Check if the lower bound of the confidence interval for treatment is higher than the control group mean plus our lift\n",
    "if lower > threshold:\n",
    "    print(f\"The magnitude of the gap is high enough, we can guarantee {threshold}\")\n",
    "else:\n",
    "    print(f\"The magnitude of the gap is not high enough since our desired is to at least guarantee {threshold}\")"
   ]
  },
  {
   "cell_type": "markdown",
   "id": "aa673ba6-e4ae-48c5-a5ba-42bef463f4bc",
   "metadata": {},
   "source": [
    "So the performance gap is good enough to guarantee that we'll get a 0.1 lift"
   ]
  },
  {
   "cell_type": "markdown",
   "id": "0727c498-d96c-4c98-94a3-47f27f7655af",
   "metadata": {},
   "source": [
    "##### Is our sample size good?\n",
    "Let's check if our treatment and control split is good. For that, our A/B testing should ideally be to get a confident estimate of whether a 0.1 lift can be reached. We would like a probability of true positives of at least 0.8 and a probability of false positives of at most 0.05. We can afford to test the recommender system on 20 percent of the user base, maximum"
   ]
  },
  {
   "cell_type": "code",
   "execution_count": 18,
   "id": "d78d4594-46ce-4f8b-a182-ba909c59825c",
   "metadata": {},
   "outputs": [
    {
     "name": "stdout",
     "output_type": "stream",
     "text": [
      "We must run an A/B test with at least 9359 users, 7799 in control and 1560 in treatment.\n"
     ]
    }
   ],
   "source": [
    "#Parameters\n",
    "alpha = 0.05\n",
    "power = 0.8\n",
    "ratio = 0.2\n",
    "effect_size = d # (Cohen's d)\n",
    "\n",
    "#Statistical test\n",
    "powertest = TTestIndPower() \n",
    "# Calculate required sample size using power analysis\n",
    "sample_size_control = round(powertest.solve_power(effect_size=effect_size, power=power, nobs1=None, ratio=ratio, alpha=alpha))\n",
    "sample_size_treatment = round(sample_size_control * ratio)\n",
    "sample_size_total = sample_size_control + sample_size_treatment\n",
    "print(f'We must run an A/B test with at least {sample_size_total} users, \\\n",
    "{sample_size_control} in control and {sample_size_treatment} in treatment.')"
   ]
  },
  {
   "cell_type": "markdown",
   "id": "993a5074-cdf3-4f7c-9e4b-516263de3d28",
   "metadata": {},
   "source": [
    "As we can see the sample size of our test is quite small compared with the one that is needed for our desired effect size."
   ]
  },
  {
   "cell_type": "markdown",
   "id": "60526160-de12-4114-b343-675c1e39e8fc",
   "metadata": {},
   "source": [
    "##### Has our test run the amount of days needed?\n",
    "We receive 100 reviews per day and right now the test is only running for 10 days. Let's check is this time window is enough:"
   ]
  },
  {
   "cell_type": "code",
   "execution_count": 19,
   "id": "f6a7b96a-19cb-445a-b235-2d628f4cc74f",
   "metadata": {},
   "outputs": [
    {
     "name": "stdout",
     "output_type": "stream",
     "text": [
      "Ideally our test should run for 94, currently our test is set to last 10.\n"
     ]
    }
   ],
   "source": [
    "users_per_day = 100\n",
    "test_timewindow = 10\n",
    "# Calculate the duration of the test in days\n",
    "duration_days = sample_size_total / users_per_day\n",
    "print(f'Ideally our test should run for {round(duration_days)}, currently our test is set to last {test_timewindow}.')"
   ]
  },
  {
   "cell_type": "markdown",
   "id": "2b8ec6e1-bd20-46b5-9829-d621f876a8a9",
   "metadata": {},
   "source": [
    "As we can see, we need to test for at least 94 days (if not more), not just 10, and for a bigger audience in order to obtain any reliable results."
   ]
  },
  {
   "cell_type": "markdown",
   "id": "5520b727-52ee-4496-b28e-e5187bf05c4f",
   "metadata": {},
   "source": [
    "#### Reflections\n",
    "\n",
    "Although the performance gap in the test run seems to be able to achieve an absolute difference of at least 0.1, for the desired effect size, the sample size population is insufficient. Moreover, to gather any possible conclusion to be able to roll out the duration time of the test should also be extended. "
   ]
  },
  {
   "cell_type": "code",
   "execution_count": null,
   "id": "60821b6b-89dd-4b50-a25b-38b004c39228",
   "metadata": {},
   "outputs": [],
   "source": []
  }
 ],
 "metadata": {
  "kernelspec": {
   "display_name": "Python 3 (ipykernel)",
   "language": "python",
   "name": "python3"
  },
  "language_info": {
   "codemirror_mode": {
    "name": "ipython",
    "version": 3
   },
   "file_extension": ".py",
   "mimetype": "text/x-python",
   "name": "python",
   "nbconvert_exporter": "python",
   "pygments_lexer": "ipython3",
   "version": "3.11.8"
  }
 },
 "nbformat": 4,
 "nbformat_minor": 5
}
